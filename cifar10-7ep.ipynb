{
  "metadata": {
    "kernelspec": {
      "name": "python3",
      "display_name": "Python 3",
      "language": "python"
    },
    "language_info": {
      "name": "python",
      "version": "3.7.12",
      "mimetype": "text/x-python",
      "codemirror_mode": {
        "name": "ipython",
        "version": 3
      },
      "pygments_lexer": "ipython3",
      "nbconvert_exporter": "python",
      "file_extension": ".py"
    },
    "colab": {
      "provenance": [],
      "include_colab_link": true
    },
    "accelerator": "GPU",
    "gpuClass": "standard"
  },
  "nbformat_minor": 0,
  "nbformat": 4,
  "cells": [
    {
      "cell_type": "markdown",
      "metadata": {
        "id": "view-in-github",
        "colab_type": "text"
      },
      "source": [
        "<a href=\"https://colab.research.google.com/github/nikhil-xb/Color-Detection/blob/main/cifar10-7ep.ipynb\" target=\"_parent\"><img src=\"https://colab.research.google.com/assets/colab-badge.svg\" alt=\"Open In Colab\"/></a>"
      ]
    },
    {
      "cell_type": "code",
      "source": [
        "!nvidia-smi"
      ],
      "metadata": {
        "execution": {
          "iopub.status.busy": "2022-10-28T07:08:14.140120Z",
          "iopub.execute_input": "2022-10-28T07:08:14.140567Z",
          "iopub.status.idle": "2022-10-28T07:08:15.267064Z",
          "shell.execute_reply.started": "2022-10-28T07:08:14.140471Z",
          "shell.execute_reply": "2022-10-28T07:08:15.265690Z"
        },
        "trusted": true,
        "colab": {
          "base_uri": "https://localhost:8080/"
        },
        "id": "CVZlHjZ41qKi",
        "outputId": "b8838b59-460d-411e-ba76-8380bbd46385"
      },
      "execution_count": 1,
      "outputs": [
        {
          "output_type": "stream",
          "name": "stdout",
          "text": [
            "Sat Oct 29 08:27:17 2022       \n",
            "+-----------------------------------------------------------------------------+\n",
            "| NVIDIA-SMI 460.32.03    Driver Version: 460.32.03    CUDA Version: 11.2     |\n",
            "|-------------------------------+----------------------+----------------------+\n",
            "| GPU  Name        Persistence-M| Bus-Id        Disp.A | Volatile Uncorr. ECC |\n",
            "| Fan  Temp  Perf  Pwr:Usage/Cap|         Memory-Usage | GPU-Util  Compute M. |\n",
            "|                               |                      |               MIG M. |\n",
            "|===============================+======================+======================|\n",
            "|   0  Tesla T4            Off  | 00000000:00:04.0 Off |                    0 |\n",
            "| N/A   41C    P8    10W /  70W |      0MiB / 15109MiB |      0%      Default |\n",
            "|                               |                      |                  N/A |\n",
            "+-------------------------------+----------------------+----------------------+\n",
            "                                                                               \n",
            "+-----------------------------------------------------------------------------+\n",
            "| Processes:                                                                  |\n",
            "|  GPU   GI   CI        PID   Type   Process name                  GPU Memory |\n",
            "|        ID   ID                                                   Usage      |\n",
            "|=============================================================================|\n",
            "|  No running processes found                                                 |\n",
            "+-----------------------------------------------------------------------------+\n"
          ]
        }
      ]
    },
    {
      "cell_type": "code",
      "source": [
        "# !pip install gdown"
      ],
      "metadata": {
        "_kg_hide-output": false,
        "execution": {
          "iopub.status.busy": "2022-10-28T05:56:01.919250Z",
          "iopub.execute_input": "2022-10-28T05:56:01.920536Z",
          "iopub.status.idle": "2022-10-28T05:56:01.925789Z",
          "shell.execute_reply.started": "2022-10-28T05:56:01.920465Z",
          "shell.execute_reply": "2022-10-28T05:56:01.923867Z"
        },
        "trusted": true,
        "id": "NOdI7GEy1qKm"
      },
      "execution_count": null,
      "outputs": []
    },
    {
      "cell_type": "code",
      "source": [
        "# !gdown --id 1axT7y37L81D-QSvBfSqwIFV9_fPNIiTU"
      ],
      "metadata": {
        "execution": {
          "iopub.status.busy": "2022-10-28T05:56:01.927420Z",
          "iopub.execute_input": "2022-10-28T05:56:01.927736Z",
          "iopub.status.idle": "2022-10-28T05:56:01.935673Z",
          "shell.execute_reply.started": "2022-10-28T05:56:01.927703Z",
          "shell.execute_reply": "2022-10-28T05:56:01.934961Z"
        },
        "trusted": true,
        "id": "cH6M-5L61qKm"
      },
      "execution_count": null,
      "outputs": []
    },
    {
      "cell_type": "code",
      "source": [
        "# Importing all the libraries\n",
        "import torch\n",
        "import torch.nn as nn\n",
        "import torch.optim as optim\n",
        "import torchvision\n",
        "from torch.optim import lr_scheduler\n",
        "import numpy as np\n",
        "from torch.utils.data import Dataset, DataLoader\n",
        "from torchvision import datasets, models, transforms, utils\n",
        "from PIL import Image\n",
        "import numpy as np\n",
        "import pandas as pd\n",
        "import numpy as np\n",
        "import matplotlib.pyplot as plt\n",
        "# Ignore warnings\n",
        "import warnings\n",
        "warnings.filterwarnings(\"ignore\")\n",
        "import matplotlib.pyplot as plt\n",
        "import time\n",
        "import os\n",
        "import copy\n",
        "import tqdm"
      ],
      "metadata": {
        "execution": {
          "iopub.status.busy": "2022-10-28T07:08:18.998467Z",
          "iopub.execute_input": "2022-10-28T07:08:18.998876Z",
          "iopub.status.idle": "2022-10-28T07:08:21.453920Z",
          "shell.execute_reply.started": "2022-10-28T07:08:18.998838Z",
          "shell.execute_reply": "2022-10-28T07:08:21.452868Z"
        },
        "trusted": true,
        "id": "Cxn3ASqf1qKn"
      },
      "execution_count": 2,
      "outputs": []
    },
    {
      "cell_type": "code",
      "source": [
        "#@title Default title text\n",
        "# import tarfile\n",
        "# file= tarfile.open('./cifar-10-python.tar.gz')\n",
        "# file.extractall('./')\n",
        "# file.close()"
      ],
      "metadata": {
        "execution": {
          "iopub.status.busy": "2022-10-28T05:56:03.923579Z",
          "iopub.execute_input": "2022-10-28T05:56:03.924280Z",
          "iopub.status.idle": "2022-10-28T05:56:03.928403Z",
          "shell.execute_reply.started": "2022-10-28T05:56:03.924253Z",
          "shell.execute_reply": "2022-10-28T05:56:03.927241Z"
        },
        "trusted": true,
        "cellView": "form",
        "id": "rWv4UG051qKn"
      },
      "execution_count": null,
      "outputs": []
    },
    {
      "cell_type": "code",
      "source": [
        "#@title Default title text\n",
        "# import pickle \n",
        "# def unpickle(file):\n",
        "#     with open(file, 'rb') as fo:\n",
        "#         data= pickle.load(fo, encoding=\"bytes\")\n",
        "#     return data\n",
        "\n",
        "# def load_cifar_data(dir,negatives=False):\n",
        "\n",
        "#     meta_data_dict= unpickle(dir+\"/batches.meta\")\n",
        "#     label_names= meta_data_dict[b'label_names']\n",
        "#     cifar_label_names= np.array(label_names)\n",
        "#     # Training Data\n",
        "#     cifar_train_data= None\n",
        "#     cifar_train_labels=[]\n",
        "#     cifar_train_filenames= []\n",
        "\n",
        "#     for i in range(1,6):\n",
        "#         cifar_train_data_dict= unpickle(dir+\"/data_batch_{}\".format(i))\n",
        "#         if i==1:\n",
        "            \n",
        "#             cifar_train_data= cifar_train_data_dict[b'data']\n",
        "#         else:\n",
        "#             cifar_train_data= np.vstack((cifar_train_data, cifar_train_data_dict[b'data']))\n",
        "#         cifar_train_filenames+= cifar_train_data_dict[b'filenames']\n",
        "#         cifar_train_labels+= cifar_train_data_dict[b'labels']\n",
        "#     cifar_train_data= cifar_train_data.reshape(len(cifar_train_data), 3,32,32)\n",
        "\n",
        "#     if negatives:\n",
        "#         cifar_train_data = cifar_train_data.transpose(0, 2, 3, 1).astype(np.float32)\n",
        "#     else:\n",
        "#         cifar_train_data = np.rollaxis(cifar_train_data, 1, 4)\n",
        "#     cifar_train_filenames = np.array(cifar_train_filenames)\n",
        "#     cifar_train_labels = np.array(cifar_train_labels)\n",
        "    \n",
        "#     #Testing Data\n",
        "#     cifar_test_data_dict= None\n",
        "#     cifar_test_labels= []\n",
        "#     cifar_test_filenames= []\n",
        "\n",
        "#     cifar_test_data_dict= unpickle(dir+\"/test_batch\")\n",
        "#     cifar_test_data= cifar_test_data_dict[b'data']\n",
        "\n",
        "#     cifar_test_filenames+= cifar_test_data_dict[b'filenames']\n",
        "#     cifar_test_labels+= cifar_test_data_dict[b'labels']\n",
        "#     cifar_test_data= cifar_test_data.reshape(len(cifar_test_data), 3,32,32)\n",
        "\n",
        "#     if negatives:\n",
        "#         cifar_test_data = cifar_test_data.transpose(0, 2, 3, 1).astype(np.float32)\n",
        "#     else:\n",
        "#         cifar_test_data = np.rollaxis(cifar_test_data, 1, 4)\n",
        "#     cifar_test_filenames = np.array(cifar_test_filenames)\n",
        "#     cifar_test_labels = np.array(cifar_test_labels)\n",
        "\n",
        "#     return cifar_train_data, cifar_train_labels, cifar_train_filenames, \\\n",
        "#     cifar_test_data, cifar_test_labels, cifar_test_filenames, cifar_label_names\n",
        "\n"
      ],
      "metadata": {
        "execution": {
          "iopub.status.busy": "2022-10-28T05:56:03.929614Z",
          "iopub.execute_input": "2022-10-28T05:56:03.930530Z",
          "iopub.status.idle": "2022-10-28T05:56:03.943798Z",
          "shell.execute_reply.started": "2022-10-28T05:56:03.930501Z",
          "shell.execute_reply": "2022-10-28T05:56:03.941850Z"
        },
        "trusted": true,
        "cellView": "form",
        "id": "e4WZFrYD1qKo"
      },
      "execution_count": null,
      "outputs": []
    },
    {
      "cell_type": "code",
      "source": [
        "#@title Default title text\n",
        "# cifar_10_dir= \"./cifar-10-batches-py\"\n",
        "# train_data, train_labels, train_filename, test_data, test_labels, test_filename, label_names = \\\n",
        "#     load_cifar_data(cifar_10_dir)\n",
        "# print(f\"Train Data= {train_data.shape}\\nTest Data= {test_data.shape}\\nTrain Labels= {train_labels.shape}\\nTest Labels= {test_labels.shape}\")\n",
        "# print(f\"Labels={label_names.shape}\")"
      ],
      "metadata": {
        "execution": {
          "iopub.status.busy": "2022-10-28T05:56:03.945375Z",
          "iopub.execute_input": "2022-10-28T05:56:03.945780Z",
          "iopub.status.idle": "2022-10-28T05:56:03.960015Z",
          "shell.execute_reply.started": "2022-10-28T05:56:03.945753Z",
          "shell.execute_reply": "2022-10-28T05:56:03.958856Z"
        },
        "trusted": true,
        "cellView": "form",
        "id": "QFiGK9141qKo"
      },
      "execution_count": null,
      "outputs": []
    },
    {
      "cell_type": "code",
      "source": [
        "from google.colab import drive\n",
        "drive.mount('/content/drive')"
      ],
      "metadata": {
        "colab": {
          "base_uri": "https://localhost:8080/"
        },
        "id": "FVJCaXx75v_Q",
        "outputId": "dc1549e1-c06b-44fe-9d78-dac0896f1b3c"
      },
      "execution_count": 3,
      "outputs": [
        {
          "output_type": "stream",
          "name": "stdout",
          "text": [
            "Mounted at /content/drive\n"
          ]
        }
      ]
    },
    {
      "cell_type": "code",
      "source": [
        "class_names = ['airplane', 'automobile', 'bird', 'cat', 'deer', 'dog', 'frog', 'horse', 'ship', 'truck']"
      ],
      "metadata": {
        "execution": {
          "iopub.status.busy": "2022-10-28T07:08:37.334349Z",
          "iopub.execute_input": "2022-10-28T07:08:37.334751Z",
          "iopub.status.idle": "2022-10-28T07:08:37.339947Z",
          "shell.execute_reply.started": "2022-10-28T07:08:37.334714Z",
          "shell.execute_reply": "2022-10-28T07:08:37.338320Z"
        },
        "trusted": true,
        "id": "rbJXCvRF1qKp"
      },
      "execution_count": 4,
      "outputs": []
    },
    {
      "cell_type": "code",
      "source": [
        "class CifarDataset(torch.utils.data.Dataset):\n",
        "    def __init__(self, data_dir,class_names,transform=None):\n",
        "        self.class_names= class_names\n",
        "        self.transform= transform\n",
        "        \n",
        "        self.X= []\n",
        "        self.Y= []\n",
        "        i=0\n",
        "        for class_ in class_names:\n",
        "            class_dir=os.path.join(data_dir, class_)\n",
        "            images= os.listdir(class_dir)\n",
        "            for image in tqdm.tqdm(images):\n",
        "                image_path= os.path.join(class_dir, image)\n",
        "                pil_image= Image.open(image_path)\n",
        "                self.X.append(Image.open(image_path))\n",
        "                self.Y.append(int(class_names.index(class_)))\n",
        "                i+=1\n",
        "    def __getitem__(self,index):\n",
        "        if torch.is_tensor(index):\n",
        "            index= index.tolist()\n",
        "        sample= {'image': self.X[index], \n",
        "                'label': self.Y[index]}\n",
        "        if self.transform:\n",
        "            sample['image']= self.transform(sample['image'])\n",
        "            \n",
        "        return sample\n",
        "    def __len__(self):\n",
        "        return len(self.X)\n",
        "    def getXY(self):\n",
        "        return self.X, self.Y"
      ],
      "metadata": {
        "execution": {
          "iopub.status.busy": "2022-10-28T07:08:23.526395Z",
          "iopub.execute_input": "2022-10-28T07:08:23.527342Z",
          "iopub.status.idle": "2022-10-28T07:08:23.539816Z",
          "shell.execute_reply.started": "2022-10-28T07:08:23.527304Z",
          "shell.execute_reply": "2022-10-28T07:08:23.538804Z"
        },
        "trusted": true,
        "id": "SYgM0qyF1qKq"
      },
      "execution_count": 5,
      "outputs": []
    },
    {
      "cell_type": "code",
      "source": [
        "!unzip -q '/content/drive/MyDrive/DataSets/Cifar10.zip'"
      ],
      "metadata": {
        "id": "DYcZgxV26aIt"
      },
      "execution_count": 6,
      "outputs": []
    },
    {
      "cell_type": "code",
      "source": [
        "cif_data= CifarDataset(data_dir= '/content/cifar10/cifar10/train',\n",
        "                      class_names= class_names)"
      ],
      "metadata": {
        "colab": {
          "base_uri": "https://localhost:8080/"
        },
        "id": "0QWHaxyf5rkK",
        "outputId": "1674513b-bb87-467f-8f3d-22432224919b"
      },
      "execution_count": 7,
      "outputs": [
        {
          "output_type": "stream",
          "name": "stderr",
          "text": [
            "100%|██████████| 5000/5000 [00:00<00:00, 6474.26it/s]\n",
            "100%|██████████| 5000/5000 [00:00<00:00, 6555.54it/s]\n",
            "100%|██████████| 5000/5000 [00:00<00:00, 8259.93it/s]\n",
            "100%|██████████| 5000/5000 [00:00<00:00, 7108.43it/s]\n",
            "100%|██████████| 5000/5000 [00:00<00:00, 8275.08it/s]\n",
            "100%|██████████| 5000/5000 [00:00<00:00, 6717.69it/s]\n",
            "100%|██████████| 5000/5000 [00:00<00:00, 8410.10it/s]\n",
            "100%|██████████| 5000/5000 [00:00<00:00, 8441.93it/s]\n",
            "100%|██████████| 5000/5000 [00:00<00:00, 5966.71it/s]\n",
            "100%|██████████| 5000/5000 [00:00<00:00, 8612.51it/s]\n"
          ]
        }
      ]
    },
    {
      "cell_type": "code",
      "source": [
        "'''dim= 10\n",
        "fig, ax= plt.subplots(dim,dim)\n",
        "for m in range(dim):\n",
        "    for n in range(dim):\n",
        "        idx= np.random.randint(0, train_data.shape[0])\n",
        "        ax[m,n].imshow(train_data[idx])\n",
        "        ax[m,n].get_xaxis().set_visible(False)\n",
        "        ax[m,n].get_yaxis().set_visible(False)\n",
        "fig.subplots_adjust(hspace=0.1)\n",
        "fig.subplots_adjust(wspace=0)\n",
        "plt.show() '''\n",
        "fig = plt.figure()\n",
        "\n",
        "for i in range(len(cif_data)):\n",
        "    sample = cif_data[i]\n",
        "\n",
        "    print(i, sample['image'].size, class_names[int(sample['label'])])\n",
        "\n",
        "    ax = plt.subplot(1, 4, i + 1)\n",
        "    plt.tight_layout()\n",
        "    ax.set_title('Sample #{}'.format(i))\n",
        "    ax.axis('off')\n",
        "    plt.imshow(sample['image'])\n",
        "    plt.show()\n",
        "\n",
        "    if i == 3:\n",
        "        plt.show()\n",
        "        break"
      ],
      "metadata": {
        "execution": {
          "iopub.status.busy": "2022-10-28T07:13:41.954976Z",
          "iopub.execute_input": "2022-10-28T07:13:41.955346Z",
          "iopub.status.idle": "2022-10-28T07:13:42.465616Z",
          "shell.execute_reply.started": "2022-10-28T07:13:41.955315Z",
          "shell.execute_reply": "2022-10-28T07:13:42.464157Z"
        },
        "trusted": true,
        "colab": {
          "base_uri": "https://localhost:8080/",
          "height": 523
        },
        "id": "mg1GrTmz1qKs",
        "outputId": "1526622a-23d9-48d4-807a-1de1176c5d90"
      },
      "execution_count": 8,
      "outputs": [
        {
          "output_type": "stream",
          "name": "stdout",
          "text": [
            "0 (32, 32) airplane\n"
          ]
        },
        {
          "output_type": "display_data",
          "data": {
            "text/plain": [
              "<Figure size 432x288 with 1 Axes>"
            ],
            "image/png": "[encoded data removed]"
          },
          "metadata": {
            "needs_background": "light"
          }
        },
        {
          "output_type": "stream",
          "name": "stdout",
          "text": [
            "1 (32, 32) airplane\n"
          ]
        },
        {
          "output_type": "display_data",
          "data": {
            "text/plain": [
              "<Figure size 432x288 with 1 Axes>"
            ],
            "image/png": "[encoded data removed]"
          },
          "metadata": {
            "needs_background": "light"
          }
        },
        {
          "output_type": "stream",
          "name": "stdout",
          "text": [
            "2 (32, 32) airplane\n"
          ]
        },
        {
          "output_type": "display_data",
          "data": {
            "text/plain": [
              "<Figure size 432x288 with 1 Axes>"
            ],
            "image/png": "[encoded data removed]"
          },
          "metadata": {
            "needs_background": "light"
          }
        },
        {
          "output_type": "stream",
          "name": "stdout",
          "text": [
            "3 (32, 32) airplane\n"
          ]
        },
        {
          "output_type": "display_data",
          "data": {
            "text/plain": [
              "<Figure size 432x288 with 1 Axes>"
            ],
            "image/png": "[encoded data removed]"
          },
          "metadata": {
            "needs_background": "light"
          }
        }
      ]
    },
    {
      "cell_type": "code",
      "source": [
        "#Applying transformation\n",
        "# from torchvison.transforms.transforms import ToTensor\n",
        "transform_data= {\n",
        "    'train': transforms.Compose([\n",
        "#         transforms.ToTensor(),\n",
        "        transforms.Resize((250,250),interpolation=1), #BiLinear Interpolation\n",
        "        transforms.RandomCrop(224),\n",
        "        transforms.RandomHorizontalFlip(),\n",
        "        transforms.RandomRotation(20),\n",
        "        transforms.RandomApply([transforms.ColorJitter(brightness=0.3), transforms.ColorJitter(contrast=0.2)]),\n",
        "        transforms.ToTensor(),\n",
        "        transforms.Normalize([0.485, 0.456, 0.406], [0.229, 0.224, 0.225]),\n",
        "        transforms.transforms.RandomErasing(p=0.4, scale= (0.02, 0.09))\n",
        "    ]),\n",
        "    'val': transforms.Compose([\n",
        "#             transforms.ToTensor(),\n",
        "            transforms.Resize((224,224), interpolation=1),\n",
        "            transforms.ToTensor(),\n",
        "            transforms.Normalize([0.485, 0.456, 0.406], [0.229, 0.224, 0.225])\n",
        "    ])\n",
        "}"
      ],
      "metadata": {
        "execution": {
          "iopub.status.busy": "2022-10-28T07:13:44.895565Z",
          "iopub.execute_input": "2022-10-28T07:13:44.896517Z",
          "iopub.status.idle": "2022-10-28T07:13:44.905971Z",
          "shell.execute_reply.started": "2022-10-28T07:13:44.896461Z",
          "shell.execute_reply": "2022-10-28T07:13:44.904764Z"
        },
        "trusted": true,
        "id": "tWs5_65x1qKs"
      },
      "execution_count": 9,
      "outputs": []
    },
    {
      "cell_type": "code",
      "source": [
        "from sklearn.model_selection import train_test_split\n",
        "# X,y= train_data, train_labels\n",
        "X,Y= cif_data.getXY()\n",
        "indices= [t for t in range(50000)]\n",
        "X_train, X_test, Y_train,Y_test ,train_idx, valid_idx= train_test_split(X,Y,\n",
        "                                                                        indices,test_size=0.005,stratify=Y,shuffle=True,random_state=0)"
      ],
      "metadata": {
        "execution": {
          "iopub.status.busy": "2022-10-28T07:13:47.071378Z",
          "iopub.execute_input": "2022-10-28T07:13:47.072017Z",
          "iopub.status.idle": "2022-10-28T07:13:47.546715Z",
          "shell.execute_reply.started": "2022-10-28T07:13:47.071980Z",
          "shell.execute_reply": "2022-10-28T07:13:47.545703Z"
        },
        "trusted": true,
        "id": "EZaPvFjX1qKt"
      },
      "execution_count": 10,
      "outputs": []
    },
    {
      "cell_type": "code",
      "source": [
        "len(Y_train)"
      ],
      "metadata": {
        "execution": {
          "iopub.status.busy": "2022-10-28T06:03:17.835153Z",
          "iopub.execute_input": "2022-10-28T06:03:17.835614Z",
          "iopub.status.idle": "2022-10-28T06:03:17.845165Z",
          "shell.execute_reply.started": "2022-10-28T06:03:17.835576Z",
          "shell.execute_reply": "2022-10-28T06:03:17.844102Z"
        },
        "trusted": true,
        "id": "PaiSg0mU1qKt",
        "outputId": "e6dffcde-2bdc-4a4a-aea6-95a4df4e0005"
      },
      "execution_count": null,
      "outputs": [
        {
          "execution_count": 14,
          "output_type": "execute_result",
          "data": {
            "text/plain": "49750"
          },
          "metadata": {}
        }
      ]
    },
    {
      "cell_type": "code",
      "source": [
        "#Creating training and validation dataset\n",
        "train_dataset= torch.utils.data.Subset(cif_data, train_idx)\n",
        "valid_dataset= torch.utils.data.Subset(cif_data, valid_idx)"
      ],
      "metadata": {
        "execution": {
          "iopub.status.busy": "2022-10-28T07:13:51.719333Z",
          "iopub.execute_input": "2022-10-28T07:13:51.719731Z",
          "iopub.status.idle": "2022-10-28T07:13:51.724728Z",
          "shell.execute_reply.started": "2022-10-28T07:13:51.719689Z",
          "shell.execute_reply": "2022-10-28T07:13:51.723754Z"
        },
        "trusted": true,
        "id": "qkzLILXO1qKt"
      },
      "execution_count": 11,
      "outputs": []
    },
    {
      "cell_type": "code",
      "source": [
        "# Mapping transformation to splits\n",
        "class MapDataSet(torch.utils.data.Dataset):\n",
        "    def __init__(self, dataset,map_fn):\n",
        "        self.dataset=dataset\n",
        "#         self.datasetY= datasetY\n",
        "        self.map= map_fn\n",
        "    def __getitem__(self, index):\n",
        "        if self.map:\n",
        "            x= self.map(self.dataset[index]['image'])\n",
        "        else: \n",
        "            x= self.dataset[index]['image']\n",
        "        y= self.dataset[index]['label']\n",
        "        return x,y\n",
        "        ''' return\n",
        "            \"x\": torch.tensor(x, dtype= torch.ByteTensor),\n",
        "            \"y\": torch.tensor(y, dtype= torch.ByteTensor),\n",
        "        } '''\n",
        "    def __len__(self):\n",
        "        return len(self.dataset)"
      ],
      "metadata": {
        "execution": {
          "iopub.status.busy": "2022-10-28T07:13:53.103528Z",
          "iopub.execute_input": "2022-10-28T07:13:53.103902Z",
          "iopub.status.idle": "2022-10-28T07:13:53.114690Z",
          "shell.execute_reply.started": "2022-10-28T07:13:53.103868Z",
          "shell.execute_reply": "2022-10-28T07:13:53.113420Z"
        },
        "trusted": true,
        "id": "dvZiXShh1qKu"
      },
      "execution_count": 12,
      "outputs": []
    },
    {
      "cell_type": "code",
      "source": [
        "Batch_Size= 32\n",
        "Num_Workers= 4\n",
        "\n",
        "tng_tf= MapDataSet(train_dataset,transform_data['train'])\n",
        "tng_load= torch.utils.data.DataLoader(tng_tf, batch_size=32,num_workers=4)\n",
        "\n",
        "# tng_Y_tf= MapDataSet(trainY_dataset, map_fn=False)\n",
        "# tngY_load= torch.utils.data.DataLoader(tng_Y_tf, batch_size=Batch_Size,num_workers= Num_Workers )\n",
        "\n",
        "val_tf= MapDataSet(valid_dataset,transform_data['val'])\n",
        "val_load= torch.utils.data.DataLoader(val_tf, batch_size=32,num_workers= 4)\n",
        "                            \n",
        "\n",
        "# val_Y_tf= MapDataSet(validY_dataset, map_fn=False)\n",
        "# valY_load= torch.utils.data.DataLoader(val_Y_tf, batch_size=Batch_Size,num_workers= Num_Workers )\n",
        "\n"
      ],
      "metadata": {
        "execution": {
          "iopub.status.busy": "2022-10-28T07:13:58.327575Z",
          "iopub.execute_input": "2022-10-28T07:13:58.329979Z",
          "iopub.status.idle": "2022-10-28T07:13:58.336205Z",
          "shell.execute_reply.started": "2022-10-28T07:13:58.329939Z",
          "shell.execute_reply": "2022-10-28T07:13:58.334852Z"
        },
        "trusted": true,
        "id": "81uAqGo11qKu"
      },
      "execution_count": 13,
      "outputs": []
    },
    {
      "cell_type": "code",
      "source": [
        "def imshow(inp, title=None):\n",
        "    inp= inp.numpy().transpose(1,2,0)\n",
        "    mean = np.array([0.485, 0.456, 0.406])\n",
        "    std = np.array([0.229, 0.224, 0.225])\n",
        "    inp= std*inp+mean\n",
        "    inp= np.clip(inp,0,1)\n",
        "    plt.imshow(inp)\n",
        "    if title is not None:\n",
        "        plt.title(title)\n",
        "    plt.pause(0.001)\n",
        "\n",
        "inputs, classes= next(iter(tng_load))\n",
        "\n",
        "inputs= inputs[:5]\n",
        "classes= classes[:5]\n",
        "out= torchvision.utils.make_grid(inputs)\n",
        "\n",
        "imshow(out,title= [class_names[x] for x in classes])\n",
        "\n",
        "    "
      ],
      "metadata": {
        "execution": {
          "iopub.status.busy": "2022-10-28T07:14:01.884571Z",
          "iopub.execute_input": "2022-10-28T07:14:01.885278Z",
          "iopub.status.idle": "2022-10-28T07:14:03.244254Z",
          "shell.execute_reply.started": "2022-10-28T07:14:01.885239Z",
          "shell.execute_reply": "2022-10-28T07:14:03.243263Z"
        },
        "trusted": true,
        "colab": {
          "base_uri": "https://localhost:8080/",
          "height": 131
        },
        "id": "hjftRunA1qKu",
        "outputId": "28224373-d719-4d95-9383-88430b1a0e50"
      },
      "execution_count": 14,
      "outputs": [
        {
          "output_type": "display_data",
          "data": {
            "text/plain": [
              "<Figure size 432x288 with 1 Axes>"
            ],
            "image/png": "[encoded data removed]"
          },
          "metadata": {
            "needs_background": "light"
          }
        }
      ]
    },
    {
      "cell_type": "code",
      "source": [
        "device= torch.device(\"cuda:0\" if torch.cuda.is_available() else \"cpu\")\n",
        "\n",
        "dataloader= {\n",
        "    'train': tng_load,\n",
        "    'val': val_load\n",
        "}\n",
        "dataset_size= {\n",
        "    'train': len(train_dataset),\n",
        "    'val': len(valid_dataset)\n",
        "}"
      ],
      "metadata": {
        "execution": {
          "iopub.status.busy": "2022-10-28T07:14:11.849519Z",
          "iopub.execute_input": "2022-10-28T07:14:11.849917Z",
          "iopub.status.idle": "2022-10-28T07:14:11.970787Z",
          "shell.execute_reply.started": "2022-10-28T07:14:11.849882Z",
          "shell.execute_reply": "2022-10-28T07:14:11.969540Z"
        },
        "trusted": true,
        "id": "Nb04fJ3X1qKu"
      },
      "execution_count": 26,
      "outputs": []
    },
    {
      "cell_type": "code",
      "source": [
        "def shuffle_minibatch(x,y):\n",
        "    assert x.size(0)== y.size(0)\n",
        "    indices= torch.randperm(x.size(0))\n",
        "    return x[indices], y[indices]"
      ],
      "metadata": {
        "execution": {
          "iopub.status.busy": "2022-10-28T07:14:14.161936Z",
          "iopub.execute_input": "2022-10-28T07:14:14.162300Z",
          "iopub.status.idle": "2022-10-28T07:14:14.167860Z",
          "shell.execute_reply.started": "2022-10-28T07:14:14.162269Z",
          "shell.execute_reply": "2022-10-28T07:14:14.166881Z"
        },
        "trusted": true,
        "id": "TX-4VSYx1qKv"
      },
      "execution_count": 27,
      "outputs": []
    },
    {
      "cell_type": "code",
      "source": [
        "num_batches= dataset_size['train']//Batch_Size\n",
        "print_every= num_batches//8\n",
        "\n",
        "def train_model(model, criterion, optimizer, scheduler, num_epochs= 25):\n",
        "    try:\n",
        "        since= time.time()\n",
        "        \n",
        "        best_model_weights= copy.deepcopy(model.state_dict())\n",
        "        best_acc=0.0\n",
        "        \n",
        "        phase= 'val'\n",
        "        for epoch in range(num_epochs):\n",
        "            if phase=='val':\n",
        "                print('\\nEpoch {}/{}'.format(epoch+1,num_epochs))\n",
        "                print('-'*10)\n",
        "            time.sleep(1)\n",
        "            \n",
        "            for phase in ['train', 'val']:\n",
        "                if phase=='train':\n",
        "                    model.train() \n",
        "                else:\n",
        "                    model.eval()\n",
        "                running_loss= 0.0\n",
        "                running_corrects= 0\n",
        "                \n",
        "                data_loader= dataloader[phase]\n",
        "                ep_time= time.time()\n",
        "                \n",
        "                # Epoch iteration\n",
        "                for i, (inputs,labels) in enumerate(data_loader):\n",
        "                    bat_start= time.time()\n",
        "                    inputs= inputs.to(device)\n",
        "                    labels= labels.to(device)\n",
        "                    \n",
        "                    optimizer.zero_grad()\n",
        "                    with torch.set_grad_enabled(phase == 'train'):\n",
        "                        outputs = model(inputs)\n",
        "                        _, preds = torch.max(outputs, 1)\n",
        "                        ## The labels should be a 1d or a 0d \n",
        "        \n",
        "                        loss = criterion(outputs, labels)\n",
        "\n",
        "                        # backward + optimize only if in training phase\n",
        "                        if phase == 'train':\n",
        "                            loss.backward()\n",
        "                            optimizer.step()\n",
        "\n",
        "                    # statistics\n",
        "                    running_loss += loss.item() * inputs.size(0)\n",
        "                    running_corrects += torch.sum(preds == labels.data)\n",
        "\n",
        "                    if phase == 'train':\n",
        "                        if (i+1)%print_every==0:\n",
        "                            print(\"\\t Batch= {}/{}===>Train Loss {:.4f} and Accuracy {:.4f} at {:.1f}s after start of epoch\".format(i+1,num_batches,\n",
        "                                                                                                                                    running_loss/(Batch_Size*(i+1)),\n",
        "                                                                                                                                    running_corrects.double()/(Batch_Size*(i+1)),\n",
        "                                                                                                                                    time.time()- ep_time))\n",
        "                if phase==\"train\":\n",
        "                    scheduler.step()\n",
        "                epoch_loss= running_loss/dataset_size[phase]\n",
        "                epoch_acc= running_corrects.double()/ dataset_size[phase]\n",
        "                \n",
        "                print('\\n{} Loss: {:.4f} Acc: {:.4f}\\n'.format(\n",
        "                    phase, epoch_loss, epoch_acc))\n",
        "\n",
        "                # deep copy the model\n",
        "                if phase == 'val' and epoch_acc >= best_acc:\n",
        "                    best_acc = epoch_acc\n",
        "                    best_model_weights = copy.deepcopy(model.state_dict())\n",
        "\n",
        "            print()\n",
        "\n",
        "        time_elapsed = time.time() - since\n",
        "        print('Training complete in {:.0f}m {:.0f}s'.format(\n",
        "            time_elapsed // 60, time_elapsed % 60))\n",
        "        print('Best val Acc: {:4f}'.format(best_acc))\n",
        "        \n",
        "        # loading best model weights\n",
        "        model.load_state_dict(best_model_weights)\n",
        "        return model\n",
        "    \n",
        "    except KeyboardInterrupt:\n",
        "        model.load_state_dict(best_model_weights)\n",
        "        return model\n",
        "                    \n",
        "\n",
        "            "
      ],
      "metadata": {
        "execution": {
          "iopub.status.busy": "2022-10-28T07:14:16.025503Z",
          "iopub.execute_input": "2022-10-28T07:14:16.026265Z",
          "iopub.status.idle": "2022-10-28T07:14:16.042599Z",
          "shell.execute_reply.started": "2022-10-28T07:14:16.026220Z",
          "shell.execute_reply": "2022-10-28T07:14:16.041610Z"
        },
        "trusted": true,
        "id": "mJ2auNP61qKv"
      },
      "execution_count": 28,
      "outputs": []
    },
    {
      "cell_type": "code",
      "source": [
        "dir(models)"
      ],
      "metadata": {
        "execution": {
          "iopub.status.busy": "2022-10-28T07:14:19.672963Z",
          "iopub.execute_input": "2022-10-28T07:14:19.673345Z",
          "iopub.status.idle": "2022-10-28T07:14:19.681827Z",
          "shell.execute_reply.started": "2022-10-28T07:14:19.673314Z",
          "shell.execute_reply": "2022-10-28T07:14:19.680826Z"
        },
        "trusted": true,
        "id": "NQPWuzGh1qKv"
      },
      "execution_count": null,
      "outputs": []
    },
    {
      "cell_type": "code",
      "source": [
        "# Pre trained model\n",
        "model_ft= models.resnext101_32x8d(pretrained=True)"
      ],
      "metadata": {
        "execution": {
          "iopub.status.busy": "2022-10-28T07:14:44.155471Z",
          "iopub.execute_input": "2022-10-28T07:14:44.156339Z",
          "iopub.status.idle": "2022-10-28T07:14:58.713837Z",
          "shell.execute_reply.started": "2022-10-28T07:14:44.156300Z",
          "shell.execute_reply": "2022-10-28T07:14:58.712853Z"
        },
        "trusted": true,
        "id": "LL6Elo5_1qKw"
      },
      "execution_count": 31,
      "outputs": []
    },
    {
      "cell_type": "code",
      "source": [
        "model_ft"
      ],
      "metadata": {
        "execution": {
          "iopub.status.busy": "2022-10-28T07:15:09.161200Z",
          "iopub.execute_input": "2022-10-28T07:15:09.161581Z",
          "iopub.status.idle": "2022-10-28T07:15:09.171898Z",
          "shell.execute_reply.started": "2022-10-28T07:15:09.161550Z",
          "shell.execute_reply": "2022-10-28T07:15:09.170795Z"
        },
        "trusted": true,
        "colab": {
          "base_uri": "https://localhost:8080/"
        },
        "id": "m9VfyEmQ1qKw",
        "outputId": "22ce9cb1-a8b7-4957-e357-e70e71f70800"
      },
      "execution_count": 32,
      "outputs": [
        {
          "output_type": "execute_result",
          "data": {
            "text/plain": [
              "ResNet(\n",
              "  (conv1): Conv2d(3, 64, kernel_size=(7, 7), stride=(2, 2), padding=(3, 3), bias=False)\n",
              "  (bn1): BatchNorm2d(64, eps=1e-05, momentum=0.1, affine=True, track_running_stats=True)\n",
              "  (relu): ReLU(inplace=True)\n",
              "  (maxpool): MaxPool2d(kernel_size=3, stride=2, padding=1, dilation=1, ceil_mode=False)\n",
              "  (layer1): Sequential(\n",
              "    (0): Bottleneck(\n",
              "      (conv1): Conv2d(64, 256, kernel_size=(1, 1), stride=(1, 1), bias=False)\n",
              "      (bn1): BatchNorm2d(256, eps=1e-05, momentum=0.1, affine=True, track_running_stats=True)\n",
              "      (conv2): Conv2d(256, 256, kernel_size=(3, 3), stride=(1, 1), padding=(1, 1), groups=32, bias=False)\n",
              "      (bn2): BatchNorm2d(256, eps=1e-05, momentum=0.1, affine=True, track_running_stats=True)\n",
              "      (conv3): Conv2d(256, 256, kernel_size=(1, 1), stride=(1, 1), bias=False)\n",
              "      (bn3): BatchNorm2d(256, eps=1e-05, momentum=0.1, affine=True, track_running_stats=True)\n",
              "      (relu): ReLU(inplace=True)\n",
              "      (downsample): Sequential(\n",
              "        (0): Conv2d(64, 256, kernel_size=(1, 1), stride=(1, 1), bias=False)\n",
              "        (1): BatchNorm2d(256, eps=1e-05, momentum=0.1, affine=True, track_running_stats=True)\n",
              "      )\n",
              "    )\n",
              "    (1): Bottleneck(\n",
              "      (conv1): Conv2d(256, 256, kernel_size=(1, 1), stride=(1, 1), bias=False)\n",
              "      (bn1): BatchNorm2d(256, eps=1e-05, momentum=0.1, affine=True, track_running_stats=True)\n",
              "      (conv2): Conv2d(256, 256, kernel_size=(3, 3), stride=(1, 1), padding=(1, 1), groups=32, bias=False)\n",
              "      (bn2): BatchNorm2d(256, eps=1e-05, momentum=0.1, affine=True, track_running_stats=True)\n",
              "      (conv3): Conv2d(256, 256, kernel_size=(1, 1), stride=(1, 1), bias=False)\n",
              "      (bn3): BatchNorm2d(256, eps=1e-05, momentum=0.1, affine=True, track_running_stats=True)\n",
              "      (relu): ReLU(inplace=True)\n",
              "    )\n",
              "    (2): Bottleneck(\n",
              "      (conv1): Conv2d(256, 256, kernel_size=(1, 1), stride=(1, 1), bias=False)\n",
              "      (bn1): BatchNorm2d(256, eps=1e-05, momentum=0.1, affine=True, track_running_stats=True)\n",
              "      (conv2): Conv2d(256, 256, kernel_size=(3, 3), stride=(1, 1), padding=(1, 1), groups=32, bias=False)\n",
              "      (bn2): BatchNorm2d(256, eps=1e-05, momentum=0.1, affine=True, track_running_stats=True)\n",
              "      (conv3): Conv2d(256, 256, kernel_size=(1, 1), stride=(1, 1), bias=False)\n",
              "      (bn3): BatchNorm2d(256, eps=1e-05, momentum=0.1, affine=True, track_running_stats=True)\n",
              "      (relu): ReLU(inplace=True)\n",
              "    )\n",
              "  )\n",
              "  (layer2): Sequential(\n",
              "    (0): Bottleneck(\n",
              "      (conv1): Conv2d(256, 512, kernel_size=(1, 1), stride=(1, 1), bias=False)\n",
              "      (bn1): BatchNorm2d(512, eps=1e-05, momentum=0.1, affine=True, track_running_stats=True)\n",
              "      (conv2): Conv2d(512, 512, kernel_size=(3, 3), stride=(2, 2), padding=(1, 1), groups=32, bias=False)\n",
              "      (bn2): BatchNorm2d(512, eps=1e-05, momentum=0.1, affine=True, track_running_stats=True)\n",
              "      (conv3): Conv2d(512, 512, kernel_size=(1, 1), stride=(1, 1), bias=False)\n",
              "      (bn3): BatchNorm2d(512, eps=1e-05, momentum=0.1, affine=True, track_running_stats=True)\n",
              "      (relu): ReLU(inplace=True)\n",
              "      (downsample): Sequential(\n",
              "        (0): Conv2d(256, 512, kernel_size=(1, 1), stride=(2, 2), bias=False)\n",
              "        (1): BatchNorm2d(512, eps=1e-05, momentum=0.1, affine=True, track_running_stats=True)\n",
              "      )\n",
              "    )\n",
              "    (1): Bottleneck(\n",
              "      (conv1): Conv2d(512, 512, kernel_size=(1, 1), stride=(1, 1), bias=False)\n",
              "      (bn1): BatchNorm2d(512, eps=1e-05, momentum=0.1, affine=True, track_running_stats=True)\n",
              "      (conv2): Conv2d(512, 512, kernel_size=(3, 3), stride=(1, 1), padding=(1, 1), groups=32, bias=False)\n",
              "      (bn2): BatchNorm2d(512, eps=1e-05, momentum=0.1, affine=True, track_running_stats=True)\n",
              "      (conv3): Conv2d(512, 512, kernel_size=(1, 1), stride=(1, 1), bias=False)\n",
              "      (bn3): BatchNorm2d(512, eps=1e-05, momentum=0.1, affine=True, track_running_stats=True)\n",
              "      (relu): ReLU(inplace=True)\n",
              "    )\n",
              "    (2): Bottleneck(\n",
              "      (conv1): Conv2d(512, 512, kernel_size=(1, 1), stride=(1, 1), bias=False)\n",
              "      (bn1): BatchNorm2d(512, eps=1e-05, momentum=0.1, affine=True, track_running_stats=True)\n",
              "      (conv2): Conv2d(512, 512, kernel_size=(3, 3), stride=(1, 1), padding=(1, 1), groups=32, bias=False)\n",
              "      (bn2): BatchNorm2d(512, eps=1e-05, momentum=0.1, affine=True, track_running_stats=True)\n",
              "      (conv3): Conv2d(512, 512, kernel_size=(1, 1), stride=(1, 1), bias=False)\n",
              "      (bn3): BatchNorm2d(512, eps=1e-05, momentum=0.1, affine=True, track_running_stats=True)\n",
              "      (relu): ReLU(inplace=True)\n",
              "    )\n",
              "    (3): Bottleneck(\n",
              "      (conv1): Conv2d(512, 512, kernel_size=(1, 1), stride=(1, 1), bias=False)\n",
              "      (bn1): BatchNorm2d(512, eps=1e-05, momentum=0.1, affine=True, track_running_stats=True)\n",
              "      (conv2): Conv2d(512, 512, kernel_size=(3, 3), stride=(1, 1), padding=(1, 1), groups=32, bias=False)\n",
              "      (bn2): BatchNorm2d(512, eps=1e-05, momentum=0.1, affine=True, track_running_stats=True)\n",
              "      (conv3): Conv2d(512, 512, kernel_size=(1, 1), stride=(1, 1), bias=False)\n",
              "      (bn3): BatchNorm2d(512, eps=1e-05, momentum=0.1, affine=True, track_running_stats=True)\n",
              "      (relu): ReLU(inplace=True)\n",
              "    )\n",
              "  )\n",
              "  (layer3): Sequential(\n",
              "    (0): Bottleneck(\n",
              "      (conv1): Conv2d(512, 1024, kernel_size=(1, 1), stride=(1, 1), bias=False)\n",
              "      (bn1): BatchNorm2d(1024, eps=1e-05, momentum=0.1, affine=True, track_running_stats=True)\n",
              "      (conv2): Conv2d(1024, 1024, kernel_size=(3, 3), stride=(2, 2), padding=(1, 1), groups=32, bias=False)\n",
              "      (bn2): BatchNorm2d(1024, eps=1e-05, momentum=0.1, affine=True, track_running_stats=True)\n",
              "      (conv3): Conv2d(1024, 1024, kernel_size=(1, 1), stride=(1, 1), bias=False)\n",
              "      (bn3): BatchNorm2d(1024, eps=1e-05, momentum=0.1, affine=True, track_running_stats=True)\n",
              "      (relu): ReLU(inplace=True)\n",
              "      (downsample): Sequential(\n",
              "        (0): Conv2d(512, 1024, kernel_size=(1, 1), stride=(2, 2), bias=False)\n",
              "        (1): BatchNorm2d(1024, eps=1e-05, momentum=0.1, affine=True, track_running_stats=True)\n",
              "      )\n",
              "    )\n",
              "    (1): Bottleneck(\n",
              "      (conv1): Conv2d(1024, 1024, kernel_size=(1, 1), stride=(1, 1), bias=False)\n",
              "      (bn1): BatchNorm2d(1024, eps=1e-05, momentum=0.1, affine=True, track_running_stats=True)\n",
              "      (conv2): Conv2d(1024, 1024, kernel_size=(3, 3), stride=(1, 1), padding=(1, 1), groups=32, bias=False)\n",
              "      (bn2): BatchNorm2d(1024, eps=1e-05, momentum=0.1, affine=True, track_running_stats=True)\n",
              "      (conv3): Conv2d(1024, 1024, kernel_size=(1, 1), stride=(1, 1), bias=False)\n",
              "      (bn3): BatchNorm2d(1024, eps=1e-05, momentum=0.1, affine=True, track_running_stats=True)\n",
              "      (relu): ReLU(inplace=True)\n",
              "    )\n",
              "    (2): Bottleneck(\n",
              "      (conv1): Conv2d(1024, 1024, kernel_size=(1, 1), stride=(1, 1), bias=False)\n",
              "      (bn1): BatchNorm2d(1024, eps=1e-05, momentum=0.1, affine=True, track_running_stats=True)\n",
              "      (conv2): Conv2d(1024, 1024, kernel_size=(3, 3), stride=(1, 1), padding=(1, 1), groups=32, bias=False)\n",
              "      (bn2): BatchNorm2d(1024, eps=1e-05, momentum=0.1, affine=True, track_running_stats=True)\n",
              "      (conv3): Conv2d(1024, 1024, kernel_size=(1, 1), stride=(1, 1), bias=False)\n",
              "      (bn3): BatchNorm2d(1024, eps=1e-05, momentum=0.1, affine=True, track_running_stats=True)\n",
              "      (relu): ReLU(inplace=True)\n",
              "    )\n",
              "    (3): Bottleneck(\n",
              "      (conv1): Conv2d(1024, 1024, kernel_size=(1, 1), stride=(1, 1), bias=False)\n",
              "      (bn1): BatchNorm2d(1024, eps=1e-05, momentum=0.1, affine=True, track_running_stats=True)\n",
              "      (conv2): Conv2d(1024, 1024, kernel_size=(3, 3), stride=(1, 1), padding=(1, 1), groups=32, bias=False)\n",
              "      (bn2): BatchNorm2d(1024, eps=1e-05, momentum=0.1, affine=True, track_running_stats=True)\n",
              "      (conv3): Conv2d(1024, 1024, kernel_size=(1, 1), stride=(1, 1), bias=False)\n",
              "      (bn3): BatchNorm2d(1024, eps=1e-05, momentum=0.1, affine=True, track_running_stats=True)\n",
              "      (relu): ReLU(inplace=True)\n",
              "    )\n",
              "    (4): Bottleneck(\n",
              "      (conv1): Conv2d(1024, 1024, kernel_size=(1, 1), stride=(1, 1), bias=False)\n",
              "      (bn1): BatchNorm2d(1024, eps=1e-05, momentum=0.1, affine=True, track_running_stats=True)\n",
              "      (conv2): Conv2d(1024, 1024, kernel_size=(3, 3), stride=(1, 1), padding=(1, 1), groups=32, bias=False)\n",
              "      (bn2): BatchNorm2d(1024, eps=1e-05, momentum=0.1, affine=True, track_running_stats=True)\n",
              "      (conv3): Conv2d(1024, 1024, kernel_size=(1, 1), stride=(1, 1), bias=False)\n",
              "      (bn3): BatchNorm2d(1024, eps=1e-05, momentum=0.1, affine=True, track_running_stats=True)\n",
              "      (relu): ReLU(inplace=True)\n",
              "    )\n",
              "    (5): Bottleneck(\n",
              "      (conv1): Conv2d(1024, 1024, kernel_size=(1, 1), stride=(1, 1), bias=False)\n",
              "      (bn1): BatchNorm2d(1024, eps=1e-05, momentum=0.1, affine=True, track_running_stats=True)\n",
              "      (conv2): Conv2d(1024, 1024, kernel_size=(3, 3), stride=(1, 1), padding=(1, 1), groups=32, bias=False)\n",
              "      (bn2): BatchNorm2d(1024, eps=1e-05, momentum=0.1, affine=True, track_running_stats=True)\n",
              "      (conv3): Conv2d(1024, 1024, kernel_size=(1, 1), stride=(1, 1), bias=False)\n",
              "      (bn3): BatchNorm2d(1024, eps=1e-05, momentum=0.1, affine=True, track_running_stats=True)\n",
              "      (relu): ReLU(inplace=True)\n",
              "    )\n",
              "    (6): Bottleneck(\n",
              "      (conv1): Conv2d(1024, 1024, kernel_size=(1, 1), stride=(1, 1), bias=False)\n",
              "      (bn1): BatchNorm2d(1024, eps=1e-05, momentum=0.1, affine=True, track_running_stats=True)\n",
              "      (conv2): Conv2d(1024, 1024, kernel_size=(3, 3), stride=(1, 1), padding=(1, 1), groups=32, bias=False)\n",
              "      (bn2): BatchNorm2d(1024, eps=1e-05, momentum=0.1, affine=True, track_running_stats=True)\n",
              "      (conv3): Conv2d(1024, 1024, kernel_size=(1, 1), stride=(1, 1), bias=False)\n",
              "      (bn3): BatchNorm2d(1024, eps=1e-05, momentum=0.1, affine=True, track_running_stats=True)\n",
              "      (relu): ReLU(inplace=True)\n",
              "    )\n",
              "    (7): Bottleneck(\n",
              "      (conv1): Conv2d(1024, 1024, kernel_size=(1, 1), stride=(1, 1), bias=False)\n",
              "      (bn1): BatchNorm2d(1024, eps=1e-05, momentum=0.1, affine=True, track_running_stats=True)\n",
              "      (conv2): Conv2d(1024, 1024, kernel_size=(3, 3), stride=(1, 1), padding=(1, 1), groups=32, bias=False)\n",
              "      (bn2): BatchNorm2d(1024, eps=1e-05, momentum=0.1, affine=True, track_running_stats=True)\n",
              "      (conv3): Conv2d(1024, 1024, kernel_size=(1, 1), stride=(1, 1), bias=False)\n",
              "      (bn3): BatchNorm2d(1024, eps=1e-05, momentum=0.1, affine=True, track_running_stats=True)\n",
              "      (relu): ReLU(inplace=True)\n",
              "    )\n",
              "    (8): Bottleneck(\n",
              "      (conv1): Conv2d(1024, 1024, kernel_size=(1, 1), stride=(1, 1), bias=False)\n",
              "      (bn1): BatchNorm2d(1024, eps=1e-05, momentum=0.1, affine=True, track_running_stats=True)\n",
              "      (conv2): Conv2d(1024, 1024, kernel_size=(3, 3), stride=(1, 1), padding=(1, 1), groups=32, bias=False)\n",
              "      (bn2): BatchNorm2d(1024, eps=1e-05, momentum=0.1, affine=True, track_running_stats=True)\n",
              "      (conv3): Conv2d(1024, 1024, kernel_size=(1, 1), stride=(1, 1), bias=False)\n",
              "      (bn3): BatchNorm2d(1024, eps=1e-05, momentum=0.1, affine=True, track_running_stats=True)\n",
              "      (relu): ReLU(inplace=True)\n",
              "    )\n",
              "    (9): Bottleneck(\n",
              "      (conv1): Conv2d(1024, 1024, kernel_size=(1, 1), stride=(1, 1), bias=False)\n",
              "      (bn1): BatchNorm2d(1024, eps=1e-05, momentum=0.1, affine=True, track_running_stats=True)\n",
              "      (conv2): Conv2d(1024, 1024, kernel_size=(3, 3), stride=(1, 1), padding=(1, 1), groups=32, bias=False)\n",
              "      (bn2): BatchNorm2d(1024, eps=1e-05, momentum=0.1, affine=True, track_running_stats=True)\n",
              "      (conv3): Conv2d(1024, 1024, kernel_size=(1, 1), stride=(1, 1), bias=False)\n",
              "      (bn3): BatchNorm2d(1024, eps=1e-05, momentum=0.1, affine=True, track_running_stats=True)\n",
              "      (relu): ReLU(inplace=True)\n",
              "    )\n",
              "    (10): Bottleneck(\n",
              "      (conv1): Conv2d(1024, 1024, kernel_size=(1, 1), stride=(1, 1), bias=False)\n",
              "      (bn1): BatchNorm2d(1024, eps=1e-05, momentum=0.1, affine=True, track_running_stats=True)\n",
              "      (conv2): Conv2d(1024, 1024, kernel_size=(3, 3), stride=(1, 1), padding=(1, 1), groups=32, bias=False)\n",
              "      (bn2): BatchNorm2d(1024, eps=1e-05, momentum=0.1, affine=True, track_running_stats=True)\n",
              "      (conv3): Conv2d(1024, 1024, kernel_size=(1, 1), stride=(1, 1), bias=False)\n",
              "      (bn3): BatchNorm2d(1024, eps=1e-05, momentum=0.1, affine=True, track_running_stats=True)\n",
              "      (relu): ReLU(inplace=True)\n",
              "    )\n",
              "    (11): Bottleneck(\n",
              "      (conv1): Conv2d(1024, 1024, kernel_size=(1, 1), stride=(1, 1), bias=False)\n",
              "      (bn1): BatchNorm2d(1024, eps=1e-05, momentum=0.1, affine=True, track_running_stats=True)\n",
              "      (conv2): Conv2d(1024, 1024, kernel_size=(3, 3), stride=(1, 1), padding=(1, 1), groups=32, bias=False)\n",
              "      (bn2): BatchNorm2d(1024, eps=1e-05, momentum=0.1, affine=True, track_running_stats=True)\n",
              "      (conv3): Conv2d(1024, 1024, kernel_size=(1, 1), stride=(1, 1), bias=False)\n",
              "      (bn3): BatchNorm2d(1024, eps=1e-05, momentum=0.1, affine=True, track_running_stats=True)\n",
              "      (relu): ReLU(inplace=True)\n",
              "    )\n",
              "    (12): Bottleneck(\n",
              "      (conv1): Conv2d(1024, 1024, kernel_size=(1, 1), stride=(1, 1), bias=False)\n",
              "      (bn1): BatchNorm2d(1024, eps=1e-05, momentum=0.1, affine=True, track_running_stats=True)\n",
              "      (conv2): Conv2d(1024, 1024, kernel_size=(3, 3), stride=(1, 1), padding=(1, 1), groups=32, bias=False)\n",
              "      (bn2): BatchNorm2d(1024, eps=1e-05, momentum=0.1, affine=True, track_running_stats=True)\n",
              "      (conv3): Conv2d(1024, 1024, kernel_size=(1, 1), stride=(1, 1), bias=False)\n",
              "      (bn3): BatchNorm2d(1024, eps=1e-05, momentum=0.1, affine=True, track_running_stats=True)\n",
              "      (relu): ReLU(inplace=True)\n",
              "    )\n",
              "    (13): Bottleneck(\n",
              "      (conv1): Conv2d(1024, 1024, kernel_size=(1, 1), stride=(1, 1), bias=False)\n",
              "      (bn1): BatchNorm2d(1024, eps=1e-05, momentum=0.1, affine=True, track_running_stats=True)\n",
              "      (conv2): Conv2d(1024, 1024, kernel_size=(3, 3), stride=(1, 1), padding=(1, 1), groups=32, bias=False)\n",
              "      (bn2): BatchNorm2d(1024, eps=1e-05, momentum=0.1, affine=True, track_running_stats=True)\n",
              "      (conv3): Conv2d(1024, 1024, kernel_size=(1, 1), stride=(1, 1), bias=False)\n",
              "      (bn3): BatchNorm2d(1024, eps=1e-05, momentum=0.1, affine=True, track_running_stats=True)\n",
              "      (relu): ReLU(inplace=True)\n",
              "    )\n",
              "    (14): Bottleneck(\n",
              "      (conv1): Conv2d(1024, 1024, kernel_size=(1, 1), stride=(1, 1), bias=False)\n",
              "      (bn1): BatchNorm2d(1024, eps=1e-05, momentum=0.1, affine=True, track_running_stats=True)\n",
              "      (conv2): Conv2d(1024, 1024, kernel_size=(3, 3), stride=(1, 1), padding=(1, 1), groups=32, bias=False)\n",
              "      (bn2): BatchNorm2d(1024, eps=1e-05, momentum=0.1, affine=True, track_running_stats=True)\n",
              "      (conv3): Conv2d(1024, 1024, kernel_size=(1, 1), stride=(1, 1), bias=False)\n",
              "      (bn3): BatchNorm2d(1024, eps=1e-05, momentum=0.1, affine=True, track_running_stats=True)\n",
              "      (relu): ReLU(inplace=True)\n",
              "    )\n",
              "    (15): Bottleneck(\n",
              "      (conv1): Conv2d(1024, 1024, kernel_size=(1, 1), stride=(1, 1), bias=False)\n",
              "      (bn1): BatchNorm2d(1024, eps=1e-05, momentum=0.1, affine=True, track_running_stats=True)\n",
              "      (conv2): Conv2d(1024, 1024, kernel_size=(3, 3), stride=(1, 1), padding=(1, 1), groups=32, bias=False)\n",
              "      (bn2): BatchNorm2d(1024, eps=1e-05, momentum=0.1, affine=True, track_running_stats=True)\n",
              "      (conv3): Conv2d(1024, 1024, kernel_size=(1, 1), stride=(1, 1), bias=False)\n",
              "      (bn3): BatchNorm2d(1024, eps=1e-05, momentum=0.1, affine=True, track_running_stats=True)\n",
              "      (relu): ReLU(inplace=True)\n",
              "    )\n",
              "    (16): Bottleneck(\n",
              "      (conv1): Conv2d(1024, 1024, kernel_size=(1, 1), stride=(1, 1), bias=False)\n",
              "      (bn1): BatchNorm2d(1024, eps=1e-05, momentum=0.1, affine=True, track_running_stats=True)\n",
              "      (conv2): Conv2d(1024, 1024, kernel_size=(3, 3), stride=(1, 1), padding=(1, 1), groups=32, bias=False)\n",
              "      (bn2): BatchNorm2d(1024, eps=1e-05, momentum=0.1, affine=True, track_running_stats=True)\n",
              "      (conv3): Conv2d(1024, 1024, kernel_size=(1, 1), stride=(1, 1), bias=False)\n",
              "      (bn3): BatchNorm2d(1024, eps=1e-05, momentum=0.1, affine=True, track_running_stats=True)\n",
              "      (relu): ReLU(inplace=True)\n",
              "    )\n",
              "    (17): Bottleneck(\n",
              "      (conv1): Conv2d(1024, 1024, kernel_size=(1, 1), stride=(1, 1), bias=False)\n",
              "      (bn1): BatchNorm2d(1024, eps=1e-05, momentum=0.1, affine=True, track_running_stats=True)\n",
              "      (conv2): Conv2d(1024, 1024, kernel_size=(3, 3), stride=(1, 1), padding=(1, 1), groups=32, bias=False)\n",
              "      (bn2): BatchNorm2d(1024, eps=1e-05, momentum=0.1, affine=True, track_running_stats=True)\n",
              "      (conv3): Conv2d(1024, 1024, kernel_size=(1, 1), stride=(1, 1), bias=False)\n",
              "      (bn3): BatchNorm2d(1024, eps=1e-05, momentum=0.1, affine=True, track_running_stats=True)\n",
              "      (relu): ReLU(inplace=True)\n",
              "    )\n",
              "    (18): Bottleneck(\n",
              "      (conv1): Conv2d(1024, 1024, kernel_size=(1, 1), stride=(1, 1), bias=False)\n",
              "      (bn1): BatchNorm2d(1024, eps=1e-05, momentum=0.1, affine=True, track_running_stats=True)\n",
              "      (conv2): Conv2d(1024, 1024, kernel_size=(3, 3), stride=(1, 1), padding=(1, 1), groups=32, bias=False)\n",
              "      (bn2): BatchNorm2d(1024, eps=1e-05, momentum=0.1, affine=True, track_running_stats=True)\n",
              "      (conv3): Conv2d(1024, 1024, kernel_size=(1, 1), stride=(1, 1), bias=False)\n",
              "      (bn3): BatchNorm2d(1024, eps=1e-05, momentum=0.1, affine=True, track_running_stats=True)\n",
              "      (relu): ReLU(inplace=True)\n",
              "    )\n",
              "    (19): Bottleneck(\n",
              "      (conv1): Conv2d(1024, 1024, kernel_size=(1, 1), stride=(1, 1), bias=False)\n",
              "      (bn1): BatchNorm2d(1024, eps=1e-05, momentum=0.1, affine=True, track_running_stats=True)\n",
              "      (conv2): Conv2d(1024, 1024, kernel_size=(3, 3), stride=(1, 1), padding=(1, 1), groups=32, bias=False)\n",
              "      (bn2): BatchNorm2d(1024, eps=1e-05, momentum=0.1, affine=True, track_running_stats=True)\n",
              "      (conv3): Conv2d(1024, 1024, kernel_size=(1, 1), stride=(1, 1), bias=False)\n",
              "      (bn3): BatchNorm2d(1024, eps=1e-05, momentum=0.1, affine=True, track_running_stats=True)\n",
              "      (relu): ReLU(inplace=True)\n",
              "    )\n",
              "    (20): Bottleneck(\n",
              "      (conv1): Conv2d(1024, 1024, kernel_size=(1, 1), stride=(1, 1), bias=False)\n",
              "      (bn1): BatchNorm2d(1024, eps=1e-05, momentum=0.1, affine=True, track_running_stats=True)\n",
              "      (conv2): Conv2d(1024, 1024, kernel_size=(3, 3), stride=(1, 1), padding=(1, 1), groups=32, bias=False)\n",
              "      (bn2): BatchNorm2d(1024, eps=1e-05, momentum=0.1, affine=True, track_running_stats=True)\n",
              "      (conv3): Conv2d(1024, 1024, kernel_size=(1, 1), stride=(1, 1), bias=False)\n",
              "      (bn3): BatchNorm2d(1024, eps=1e-05, momentum=0.1, affine=True, track_running_stats=True)\n",
              "      (relu): ReLU(inplace=True)\n",
              "    )\n",
              "    (21): Bottleneck(\n",
              "      (conv1): Conv2d(1024, 1024, kernel_size=(1, 1), stride=(1, 1), bias=False)\n",
              "      (bn1): BatchNorm2d(1024, eps=1e-05, momentum=0.1, affine=True, track_running_stats=True)\n",
              "      (conv2): Conv2d(1024, 1024, kernel_size=(3, 3), stride=(1, 1), padding=(1, 1), groups=32, bias=False)\n",
              "      (bn2): BatchNorm2d(1024, eps=1e-05, momentum=0.1, affine=True, track_running_stats=True)\n",
              "      (conv3): Conv2d(1024, 1024, kernel_size=(1, 1), stride=(1, 1), bias=False)\n",
              "      (bn3): BatchNorm2d(1024, eps=1e-05, momentum=0.1, affine=True, track_running_stats=True)\n",
              "      (relu): ReLU(inplace=True)\n",
              "    )\n",
              "    (22): Bottleneck(\n",
              "      (conv1): Conv2d(1024, 1024, kernel_size=(1, 1), stride=(1, 1), bias=False)\n",
              "      (bn1): BatchNorm2d(1024, eps=1e-05, momentum=0.1, affine=True, track_running_stats=True)\n",
              "      (conv2): Conv2d(1024, 1024, kernel_size=(3, 3), stride=(1, 1), padding=(1, 1), groups=32, bias=False)\n",
              "      (bn2): BatchNorm2d(1024, eps=1e-05, momentum=0.1, affine=True, track_running_stats=True)\n",
              "      (conv3): Conv2d(1024, 1024, kernel_size=(1, 1), stride=(1, 1), bias=False)\n",
              "      (bn3): BatchNorm2d(1024, eps=1e-05, momentum=0.1, affine=True, track_running_stats=True)\n",
              "      (relu): ReLU(inplace=True)\n",
              "    )\n",
              "  )\n",
              "  (layer4): Sequential(\n",
              "    (0): Bottleneck(\n",
              "      (conv1): Conv2d(1024, 2048, kernel_size=(1, 1), stride=(1, 1), bias=False)\n",
              "      (bn1): BatchNorm2d(2048, eps=1e-05, momentum=0.1, affine=True, track_running_stats=True)\n",
              "      (conv2): Conv2d(2048, 2048, kernel_size=(3, 3), stride=(2, 2), padding=(1, 1), groups=32, bias=False)\n",
              "      (bn2): BatchNorm2d(2048, eps=1e-05, momentum=0.1, affine=True, track_running_stats=True)\n",
              "      (conv3): Conv2d(2048, 2048, kernel_size=(1, 1), stride=(1, 1), bias=False)\n",
              "      (bn3): BatchNorm2d(2048, eps=1e-05, momentum=0.1, affine=True, track_running_stats=True)\n",
              "      (relu): ReLU(inplace=True)\n",
              "      (downsample): Sequential(\n",
              "        (0): Conv2d(1024, 2048, kernel_size=(1, 1), stride=(2, 2), bias=False)\n",
              "        (1): BatchNorm2d(2048, eps=1e-05, momentum=0.1, affine=True, track_running_stats=True)\n",
              "      )\n",
              "    )\n",
              "    (1): Bottleneck(\n",
              "      (conv1): Conv2d(2048, 2048, kernel_size=(1, 1), stride=(1, 1), bias=False)\n",
              "      (bn1): BatchNorm2d(2048, eps=1e-05, momentum=0.1, affine=True, track_running_stats=True)\n",
              "      (conv2): Conv2d(2048, 2048, kernel_size=(3, 3), stride=(1, 1), padding=(1, 1), groups=32, bias=False)\n",
              "      (bn2): BatchNorm2d(2048, eps=1e-05, momentum=0.1, affine=True, track_running_stats=True)\n",
              "      (conv3): Conv2d(2048, 2048, kernel_size=(1, 1), stride=(1, 1), bias=False)\n",
              "      (bn3): BatchNorm2d(2048, eps=1e-05, momentum=0.1, affine=True, track_running_stats=True)\n",
              "      (relu): ReLU(inplace=True)\n",
              "    )\n",
              "    (2): Bottleneck(\n",
              "      (conv1): Conv2d(2048, 2048, kernel_size=(1, 1), stride=(1, 1), bias=False)\n",
              "      (bn1): BatchNorm2d(2048, eps=1e-05, momentum=0.1, affine=True, track_running_stats=True)\n",
              "      (conv2): Conv2d(2048, 2048, kernel_size=(3, 3), stride=(1, 1), padding=(1, 1), groups=32, bias=False)\n",
              "      (bn2): BatchNorm2d(2048, eps=1e-05, momentum=0.1, affine=True, track_running_stats=True)\n",
              "      (conv3): Conv2d(2048, 2048, kernel_size=(1, 1), stride=(1, 1), bias=False)\n",
              "      (bn3): BatchNorm2d(2048, eps=1e-05, momentum=0.1, affine=True, track_running_stats=True)\n",
              "      (relu): ReLU(inplace=True)\n",
              "    )\n",
              "  )\n",
              "  (avgpool): AdaptiveAvgPool2d(output_size=(1, 1))\n",
              "  (fc): Linear(in_features=2048, out_features=1000, bias=True)\n",
              ")"
            ]
          },
          "metadata": {},
          "execution_count": 32
        }
      ]
    },
    {
      "cell_type": "code",
      "source": [
        "import torch.nn.functional as F\n",
        "class My_Module(nn.Module):\n",
        "    \n",
        "    def __init__(self, infeatures, num_classes):\n",
        "        super(My_Module, self).__init__()\n",
        "        self.fc1= nn.Linear(infeatures,1024)\n",
        "        self.fc2= nn.Linear(1024, num_classes)\n",
        "    def forward(self,x):\n",
        "        x= self.fc1(x)\n",
        "        x= nn.Dropout(0.15)(x)\n",
        "        x= F.relu(x)\n",
        "        x= self.fc2(x)\n",
        "        return x\n",
        "    \n",
        "last_ftrs= model_ft.fc.in_features\n",
        "my_module= My_Module(last_ftrs, len(class_names))\n",
        "my_module"
      ],
      "metadata": {
        "execution": {
          "iopub.status.busy": "2022-10-28T07:15:15.010471Z",
          "iopub.execute_input": "2022-10-28T07:15:15.010863Z",
          "iopub.status.idle": "2022-10-28T07:15:15.037934Z",
          "shell.execute_reply.started": "2022-10-28T07:15:15.010828Z",
          "shell.execute_reply": "2022-10-28T07:15:15.036927Z"
        },
        "trusted": true,
        "colab": {
          "base_uri": "https://localhost:8080/"
        },
        "id": "NH0qgjYF1qKw",
        "outputId": "577310b5-6956-4432-d57c-c16dcb7d6f2b"
      },
      "execution_count": 33,
      "outputs": [
        {
          "output_type": "execute_result",
          "data": {
            "text/plain": [
              "My_Module(\n",
              "  (fc1): Linear(in_features=2048, out_features=1024, bias=True)\n",
              "  (fc2): Linear(in_features=1024, out_features=10, bias=True)\n",
              ")"
            ]
          },
          "metadata": {},
          "execution_count": 33
        }
      ]
    },
    {
      "cell_type": "code",
      "source": [
        "# Adding custom head\n",
        "model_ft.fc= nn.Sequential(my_module)\n",
        "model_ft"
      ],
      "metadata": {
        "execution": {
          "iopub.status.busy": "2022-10-28T07:15:17.065361Z",
          "iopub.execute_input": "2022-10-28T07:15:17.066769Z",
          "iopub.status.idle": "2022-10-28T07:15:17.093129Z",
          "shell.execute_reply.started": "2022-10-28T07:15:17.066707Z",
          "shell.execute_reply": "2022-10-28T07:15:17.092211Z"
        },
        "trusted": true,
        "colab": {
          "base_uri": "https://localhost:8080/"
        },
        "id": "eNgxkAje1qKx",
        "outputId": "faf4df06-c4bb-4a40-9d3e-5d41ce3daf1d"
      },
      "execution_count": 34,
      "outputs": [
        {
          "output_type": "execute_result",
          "data": {
            "text/plain": [
              "ResNet(\n",
              "  (conv1): Conv2d(3, 64, kernel_size=(7, 7), stride=(2, 2), padding=(3, 3), bias=False)\n",
              "  (bn1): BatchNorm2d(64, eps=1e-05, momentum=0.1, affine=True, track_running_stats=True)\n",
              "  (relu): ReLU(inplace=True)\n",
              "  (maxpool): MaxPool2d(kernel_size=3, stride=2, padding=1, dilation=1, ceil_mode=False)\n",
              "  (layer1): Sequential(\n",
              "    (0): Bottleneck(\n",
              "      (conv1): Conv2d(64, 256, kernel_size=(1, 1), stride=(1, 1), bias=False)\n",
              "      (bn1): BatchNorm2d(256, eps=1e-05, momentum=0.1, affine=True, track_running_stats=True)\n",
              "      (conv2): Conv2d(256, 256, kernel_size=(3, 3), stride=(1, 1), padding=(1, 1), groups=32, bias=False)\n",
              "      (bn2): BatchNorm2d(256, eps=1e-05, momentum=0.1, affine=True, track_running_stats=True)\n",
              "      (conv3): Conv2d(256, 256, kernel_size=(1, 1), stride=(1, 1), bias=False)\n",
              "      (bn3): BatchNorm2d(256, eps=1e-05, momentum=0.1, affine=True, track_running_stats=True)\n",
              "      (relu): ReLU(inplace=True)\n",
              "      (downsample): Sequential(\n",
              "        (0): Conv2d(64, 256, kernel_size=(1, 1), stride=(1, 1), bias=False)\n",
              "        (1): BatchNorm2d(256, eps=1e-05, momentum=0.1, affine=True, track_running_stats=True)\n",
              "      )\n",
              "    )\n",
              "    (1): Bottleneck(\n",
              "      (conv1): Conv2d(256, 256, kernel_size=(1, 1), stride=(1, 1), bias=False)\n",
              "      (bn1): BatchNorm2d(256, eps=1e-05, momentum=0.1, affine=True, track_running_stats=True)\n",
              "      (conv2): Conv2d(256, 256, kernel_size=(3, 3), stride=(1, 1), padding=(1, 1), groups=32, bias=False)\n",
              "      (bn2): BatchNorm2d(256, eps=1e-05, momentum=0.1, affine=True, track_running_stats=True)\n",
              "      (conv3): Conv2d(256, 256, kernel_size=(1, 1), stride=(1, 1), bias=False)\n",
              "      (bn3): BatchNorm2d(256, eps=1e-05, momentum=0.1, affine=True, track_running_stats=True)\n",
              "      (relu): ReLU(inplace=True)\n",
              "    )\n",
              "    (2): Bottleneck(\n",
              "      (conv1): Conv2d(256, 256, kernel_size=(1, 1), stride=(1, 1), bias=False)\n",
              "      (bn1): BatchNorm2d(256, eps=1e-05, momentum=0.1, affine=True, track_running_stats=True)\n",
              "      (conv2): Conv2d(256, 256, kernel_size=(3, 3), stride=(1, 1), padding=(1, 1), groups=32, bias=False)\n",
              "      (bn2): BatchNorm2d(256, eps=1e-05, momentum=0.1, affine=True, track_running_stats=True)\n",
              "      (conv3): Conv2d(256, 256, kernel_size=(1, 1), stride=(1, 1), bias=False)\n",
              "      (bn3): BatchNorm2d(256, eps=1e-05, momentum=0.1, affine=True, track_running_stats=True)\n",
              "      (relu): ReLU(inplace=True)\n",
              "    )\n",
              "  )\n",
              "  (layer2): Sequential(\n",
              "    (0): Bottleneck(\n",
              "      (conv1): Conv2d(256, 512, kernel_size=(1, 1), stride=(1, 1), bias=False)\n",
              "      (bn1): BatchNorm2d(512, eps=1e-05, momentum=0.1, affine=True, track_running_stats=True)\n",
              "      (conv2): Conv2d(512, 512, kernel_size=(3, 3), stride=(2, 2), padding=(1, 1), groups=32, bias=False)\n",
              "      (bn2): BatchNorm2d(512, eps=1e-05, momentum=0.1, affine=True, track_running_stats=True)\n",
              "      (conv3): Conv2d(512, 512, kernel_size=(1, 1), stride=(1, 1), bias=False)\n",
              "      (bn3): BatchNorm2d(512, eps=1e-05, momentum=0.1, affine=True, track_running_stats=True)\n",
              "      (relu): ReLU(inplace=True)\n",
              "      (downsample): Sequential(\n",
              "        (0): Conv2d(256, 512, kernel_size=(1, 1), stride=(2, 2), bias=False)\n",
              "        (1): BatchNorm2d(512, eps=1e-05, momentum=0.1, affine=True, track_running_stats=True)\n",
              "      )\n",
              "    )\n",
              "    (1): Bottleneck(\n",
              "      (conv1): Conv2d(512, 512, kernel_size=(1, 1), stride=(1, 1), bias=False)\n",
              "      (bn1): BatchNorm2d(512, eps=1e-05, momentum=0.1, affine=True, track_running_stats=True)\n",
              "      (conv2): Conv2d(512, 512, kernel_size=(3, 3), stride=(1, 1), padding=(1, 1), groups=32, bias=False)\n",
              "      (bn2): BatchNorm2d(512, eps=1e-05, momentum=0.1, affine=True, track_running_stats=True)\n",
              "      (conv3): Conv2d(512, 512, kernel_size=(1, 1), stride=(1, 1), bias=False)\n",
              "      (bn3): BatchNorm2d(512, eps=1e-05, momentum=0.1, affine=True, track_running_stats=True)\n",
              "      (relu): ReLU(inplace=True)\n",
              "    )\n",
              "    (2): Bottleneck(\n",
              "      (conv1): Conv2d(512, 512, kernel_size=(1, 1), stride=(1, 1), bias=False)\n",
              "      (bn1): BatchNorm2d(512, eps=1e-05, momentum=0.1, affine=True, track_running_stats=True)\n",
              "      (conv2): Conv2d(512, 512, kernel_size=(3, 3), stride=(1, 1), padding=(1, 1), groups=32, bias=False)\n",
              "      (bn2): BatchNorm2d(512, eps=1e-05, momentum=0.1, affine=True, track_running_stats=True)\n",
              "      (conv3): Conv2d(512, 512, kernel_size=(1, 1), stride=(1, 1), bias=False)\n",
              "      (bn3): BatchNorm2d(512, eps=1e-05, momentum=0.1, affine=True, track_running_stats=True)\n",
              "      (relu): ReLU(inplace=True)\n",
              "    )\n",
              "    (3): Bottleneck(\n",
              "      (conv1): Conv2d(512, 512, kernel_size=(1, 1), stride=(1, 1), bias=False)\n",
              "      (bn1): BatchNorm2d(512, eps=1e-05, momentum=0.1, affine=True, track_running_stats=True)\n",
              "      (conv2): Conv2d(512, 512, kernel_size=(3, 3), stride=(1, 1), padding=(1, 1), groups=32, bias=False)\n",
              "      (bn2): BatchNorm2d(512, eps=1e-05, momentum=0.1, affine=True, track_running_stats=True)\n",
              "      (conv3): Conv2d(512, 512, kernel_size=(1, 1), stride=(1, 1), bias=False)\n",
              "      (bn3): BatchNorm2d(512, eps=1e-05, momentum=0.1, affine=True, track_running_stats=True)\n",
              "      (relu): ReLU(inplace=True)\n",
              "    )\n",
              "  )\n",
              "  (layer3): Sequential(\n",
              "    (0): Bottleneck(\n",
              "      (conv1): Conv2d(512, 1024, kernel_size=(1, 1), stride=(1, 1), bias=False)\n",
              "      (bn1): BatchNorm2d(1024, eps=1e-05, momentum=0.1, affine=True, track_running_stats=True)\n",
              "      (conv2): Conv2d(1024, 1024, kernel_size=(3, 3), stride=(2, 2), padding=(1, 1), groups=32, bias=False)\n",
              "      (bn2): BatchNorm2d(1024, eps=1e-05, momentum=0.1, affine=True, track_running_stats=True)\n",
              "      (conv3): Conv2d(1024, 1024, kernel_size=(1, 1), stride=(1, 1), bias=False)\n",
              "      (bn3): BatchNorm2d(1024, eps=1e-05, momentum=0.1, affine=True, track_running_stats=True)\n",
              "      (relu): ReLU(inplace=True)\n",
              "      (downsample): Sequential(\n",
              "        (0): Conv2d(512, 1024, kernel_size=(1, 1), stride=(2, 2), bias=False)\n",
              "        (1): BatchNorm2d(1024, eps=1e-05, momentum=0.1, affine=True, track_running_stats=True)\n",
              "      )\n",
              "    )\n",
              "    (1): Bottleneck(\n",
              "      (conv1): Conv2d(1024, 1024, kernel_size=(1, 1), stride=(1, 1), bias=False)\n",
              "      (bn1): BatchNorm2d(1024, eps=1e-05, momentum=0.1, affine=True, track_running_stats=True)\n",
              "      (conv2): Conv2d(1024, 1024, kernel_size=(3, 3), stride=(1, 1), padding=(1, 1), groups=32, bias=False)\n",
              "      (bn2): BatchNorm2d(1024, eps=1e-05, momentum=0.1, affine=True, track_running_stats=True)\n",
              "      (conv3): Conv2d(1024, 1024, kernel_size=(1, 1), stride=(1, 1), bias=False)\n",
              "      (bn3): BatchNorm2d(1024, eps=1e-05, momentum=0.1, affine=True, track_running_stats=True)\n",
              "      (relu): ReLU(inplace=True)\n",
              "    )\n",
              "    (2): Bottleneck(\n",
              "      (conv1): Conv2d(1024, 1024, kernel_size=(1, 1), stride=(1, 1), bias=False)\n",
              "      (bn1): BatchNorm2d(1024, eps=1e-05, momentum=0.1, affine=True, track_running_stats=True)\n",
              "      (conv2): Conv2d(1024, 1024, kernel_size=(3, 3), stride=(1, 1), padding=(1, 1), groups=32, bias=False)\n",
              "      (bn2): BatchNorm2d(1024, eps=1e-05, momentum=0.1, affine=True, track_running_stats=True)\n",
              "      (conv3): Conv2d(1024, 1024, kernel_size=(1, 1), stride=(1, 1), bias=False)\n",
              "      (bn3): BatchNorm2d(1024, eps=1e-05, momentum=0.1, affine=True, track_running_stats=True)\n",
              "      (relu): ReLU(inplace=True)\n",
              "    )\n",
              "    (3): Bottleneck(\n",
              "      (conv1): Conv2d(1024, 1024, kernel_size=(1, 1), stride=(1, 1), bias=False)\n",
              "      (bn1): BatchNorm2d(1024, eps=1e-05, momentum=0.1, affine=True, track_running_stats=True)\n",
              "      (conv2): Conv2d(1024, 1024, kernel_size=(3, 3), stride=(1, 1), padding=(1, 1), groups=32, bias=False)\n",
              "      (bn2): BatchNorm2d(1024, eps=1e-05, momentum=0.1, affine=True, track_running_stats=True)\n",
              "      (conv3): Conv2d(1024, 1024, kernel_size=(1, 1), stride=(1, 1), bias=False)\n",
              "      (bn3): BatchNorm2d(1024, eps=1e-05, momentum=0.1, affine=True, track_running_stats=True)\n",
              "      (relu): ReLU(inplace=True)\n",
              "    )\n",
              "    (4): Bottleneck(\n",
              "      (conv1): Conv2d(1024, 1024, kernel_size=(1, 1), stride=(1, 1), bias=False)\n",
              "      (bn1): BatchNorm2d(1024, eps=1e-05, momentum=0.1, affine=True, track_running_stats=True)\n",
              "      (conv2): Conv2d(1024, 1024, kernel_size=(3, 3), stride=(1, 1), padding=(1, 1), groups=32, bias=False)\n",
              "      (bn2): BatchNorm2d(1024, eps=1e-05, momentum=0.1, affine=True, track_running_stats=True)\n",
              "      (conv3): Conv2d(1024, 1024, kernel_size=(1, 1), stride=(1, 1), bias=False)\n",
              "      (bn3): BatchNorm2d(1024, eps=1e-05, momentum=0.1, affine=True, track_running_stats=True)\n",
              "      (relu): ReLU(inplace=True)\n",
              "    )\n",
              "    (5): Bottleneck(\n",
              "      (conv1): Conv2d(1024, 1024, kernel_size=(1, 1), stride=(1, 1), bias=False)\n",
              "      (bn1): BatchNorm2d(1024, eps=1e-05, momentum=0.1, affine=True, track_running_stats=True)\n",
              "      (conv2): Conv2d(1024, 1024, kernel_size=(3, 3), stride=(1, 1), padding=(1, 1), groups=32, bias=False)\n",
              "      (bn2): BatchNorm2d(1024, eps=1e-05, momentum=0.1, affine=True, track_running_stats=True)\n",
              "      (conv3): Conv2d(1024, 1024, kernel_size=(1, 1), stride=(1, 1), bias=False)\n",
              "      (bn3): BatchNorm2d(1024, eps=1e-05, momentum=0.1, affine=True, track_running_stats=True)\n",
              "      (relu): ReLU(inplace=True)\n",
              "    )\n",
              "    (6): Bottleneck(\n",
              "      (conv1): Conv2d(1024, 1024, kernel_size=(1, 1), stride=(1, 1), bias=False)\n",
              "      (bn1): BatchNorm2d(1024, eps=1e-05, momentum=0.1, affine=True, track_running_stats=True)\n",
              "      (conv2): Conv2d(1024, 1024, kernel_size=(3, 3), stride=(1, 1), padding=(1, 1), groups=32, bias=False)\n",
              "      (bn2): BatchNorm2d(1024, eps=1e-05, momentum=0.1, affine=True, track_running_stats=True)\n",
              "      (conv3): Conv2d(1024, 1024, kernel_size=(1, 1), stride=(1, 1), bias=False)\n",
              "      (bn3): BatchNorm2d(1024, eps=1e-05, momentum=0.1, affine=True, track_running_stats=True)\n",
              "      (relu): ReLU(inplace=True)\n",
              "    )\n",
              "    (7): Bottleneck(\n",
              "      (conv1): Conv2d(1024, 1024, kernel_size=(1, 1), stride=(1, 1), bias=False)\n",
              "      (bn1): BatchNorm2d(1024, eps=1e-05, momentum=0.1, affine=True, track_running_stats=True)\n",
              "      (conv2): Conv2d(1024, 1024, kernel_size=(3, 3), stride=(1, 1), padding=(1, 1), groups=32, bias=False)\n",
              "      (bn2): BatchNorm2d(1024, eps=1e-05, momentum=0.1, affine=True, track_running_stats=True)\n",
              "      (conv3): Conv2d(1024, 1024, kernel_size=(1, 1), stride=(1, 1), bias=False)\n",
              "      (bn3): BatchNorm2d(1024, eps=1e-05, momentum=0.1, affine=True, track_running_stats=True)\n",
              "      (relu): ReLU(inplace=True)\n",
              "    )\n",
              "    (8): Bottleneck(\n",
              "      (conv1): Conv2d(1024, 1024, kernel_size=(1, 1), stride=(1, 1), bias=False)\n",
              "      (bn1): BatchNorm2d(1024, eps=1e-05, momentum=0.1, affine=True, track_running_stats=True)\n",
              "      (conv2): Conv2d(1024, 1024, kernel_size=(3, 3), stride=(1, 1), padding=(1, 1), groups=32, bias=False)\n",
              "      (bn2): BatchNorm2d(1024, eps=1e-05, momentum=0.1, affine=True, track_running_stats=True)\n",
              "      (conv3): Conv2d(1024, 1024, kernel_size=(1, 1), stride=(1, 1), bias=False)\n",
              "      (bn3): BatchNorm2d(1024, eps=1e-05, momentum=0.1, affine=True, track_running_stats=True)\n",
              "      (relu): ReLU(inplace=True)\n",
              "    )\n",
              "    (9): Bottleneck(\n",
              "      (conv1): Conv2d(1024, 1024, kernel_size=(1, 1), stride=(1, 1), bias=False)\n",
              "      (bn1): BatchNorm2d(1024, eps=1e-05, momentum=0.1, affine=True, track_running_stats=True)\n",
              "      (conv2): Conv2d(1024, 1024, kernel_size=(3, 3), stride=(1, 1), padding=(1, 1), groups=32, bias=False)\n",
              "      (bn2): BatchNorm2d(1024, eps=1e-05, momentum=0.1, affine=True, track_running_stats=True)\n",
              "      (conv3): Conv2d(1024, 1024, kernel_size=(1, 1), stride=(1, 1), bias=False)\n",
              "      (bn3): BatchNorm2d(1024, eps=1e-05, momentum=0.1, affine=True, track_running_stats=True)\n",
              "      (relu): ReLU(inplace=True)\n",
              "    )\n",
              "    (10): Bottleneck(\n",
              "      (conv1): Conv2d(1024, 1024, kernel_size=(1, 1), stride=(1, 1), bias=False)\n",
              "      (bn1): BatchNorm2d(1024, eps=1e-05, momentum=0.1, affine=True, track_running_stats=True)\n",
              "      (conv2): Conv2d(1024, 1024, kernel_size=(3, 3), stride=(1, 1), padding=(1, 1), groups=32, bias=False)\n",
              "      (bn2): BatchNorm2d(1024, eps=1e-05, momentum=0.1, affine=True, track_running_stats=True)\n",
              "      (conv3): Conv2d(1024, 1024, kernel_size=(1, 1), stride=(1, 1), bias=False)\n",
              "      (bn3): BatchNorm2d(1024, eps=1e-05, momentum=0.1, affine=True, track_running_stats=True)\n",
              "      (relu): ReLU(inplace=True)\n",
              "    )\n",
              "    (11): Bottleneck(\n",
              "      (conv1): Conv2d(1024, 1024, kernel_size=(1, 1), stride=(1, 1), bias=False)\n",
              "      (bn1): BatchNorm2d(1024, eps=1e-05, momentum=0.1, affine=True, track_running_stats=True)\n",
              "      (conv2): Conv2d(1024, 1024, kernel_size=(3, 3), stride=(1, 1), padding=(1, 1), groups=32, bias=False)\n",
              "      (bn2): BatchNorm2d(1024, eps=1e-05, momentum=0.1, affine=True, track_running_stats=True)\n",
              "      (conv3): Conv2d(1024, 1024, kernel_size=(1, 1), stride=(1, 1), bias=False)\n",
              "      (bn3): BatchNorm2d(1024, eps=1e-05, momentum=0.1, affine=True, track_running_stats=True)\n",
              "      (relu): ReLU(inplace=True)\n",
              "    )\n",
              "    (12): Bottleneck(\n",
              "      (conv1): Conv2d(1024, 1024, kernel_size=(1, 1), stride=(1, 1), bias=False)\n",
              "      (bn1): BatchNorm2d(1024, eps=1e-05, momentum=0.1, affine=True, track_running_stats=True)\n",
              "      (conv2): Conv2d(1024, 1024, kernel_size=(3, 3), stride=(1, 1), padding=(1, 1), groups=32, bias=False)\n",
              "      (bn2): BatchNorm2d(1024, eps=1e-05, momentum=0.1, affine=True, track_running_stats=True)\n",
              "      (conv3): Conv2d(1024, 1024, kernel_size=(1, 1), stride=(1, 1), bias=False)\n",
              "      (bn3): BatchNorm2d(1024, eps=1e-05, momentum=0.1, affine=True, track_running_stats=True)\n",
              "      (relu): ReLU(inplace=True)\n",
              "    )\n",
              "    (13): Bottleneck(\n",
              "      (conv1): Conv2d(1024, 1024, kernel_size=(1, 1), stride=(1, 1), bias=False)\n",
              "      (bn1): BatchNorm2d(1024, eps=1e-05, momentum=0.1, affine=True, track_running_stats=True)\n",
              "      (conv2): Conv2d(1024, 1024, kernel_size=(3, 3), stride=(1, 1), padding=(1, 1), groups=32, bias=False)\n",
              "      (bn2): BatchNorm2d(1024, eps=1e-05, momentum=0.1, affine=True, track_running_stats=True)\n",
              "      (conv3): Conv2d(1024, 1024, kernel_size=(1, 1), stride=(1, 1), bias=False)\n",
              "      (bn3): BatchNorm2d(1024, eps=1e-05, momentum=0.1, affine=True, track_running_stats=True)\n",
              "      (relu): ReLU(inplace=True)\n",
              "    )\n",
              "    (14): Bottleneck(\n",
              "      (conv1): Conv2d(1024, 1024, kernel_size=(1, 1), stride=(1, 1), bias=False)\n",
              "      (bn1): BatchNorm2d(1024, eps=1e-05, momentum=0.1, affine=True, track_running_stats=True)\n",
              "      (conv2): Conv2d(1024, 1024, kernel_size=(3, 3), stride=(1, 1), padding=(1, 1), groups=32, bias=False)\n",
              "      (bn2): BatchNorm2d(1024, eps=1e-05, momentum=0.1, affine=True, track_running_stats=True)\n",
              "      (conv3): Conv2d(1024, 1024, kernel_size=(1, 1), stride=(1, 1), bias=False)\n",
              "      (bn3): BatchNorm2d(1024, eps=1e-05, momentum=0.1, affine=True, track_running_stats=True)\n",
              "      (relu): ReLU(inplace=True)\n",
              "    )\n",
              "    (15): Bottleneck(\n",
              "      (conv1): Conv2d(1024, 1024, kernel_size=(1, 1), stride=(1, 1), bias=False)\n",
              "      (bn1): BatchNorm2d(1024, eps=1e-05, momentum=0.1, affine=True, track_running_stats=True)\n",
              "      (conv2): Conv2d(1024, 1024, kernel_size=(3, 3), stride=(1, 1), padding=(1, 1), groups=32, bias=False)\n",
              "      (bn2): BatchNorm2d(1024, eps=1e-05, momentum=0.1, affine=True, track_running_stats=True)\n",
              "      (conv3): Conv2d(1024, 1024, kernel_size=(1, 1), stride=(1, 1), bias=False)\n",
              "      (bn3): BatchNorm2d(1024, eps=1e-05, momentum=0.1, affine=True, track_running_stats=True)\n",
              "      (relu): ReLU(inplace=True)\n",
              "    )\n",
              "    (16): Bottleneck(\n",
              "      (conv1): Conv2d(1024, 1024, kernel_size=(1, 1), stride=(1, 1), bias=False)\n",
              "      (bn1): BatchNorm2d(1024, eps=1e-05, momentum=0.1, affine=True, track_running_stats=True)\n",
              "      (conv2): Conv2d(1024, 1024, kernel_size=(3, 3), stride=(1, 1), padding=(1, 1), groups=32, bias=False)\n",
              "      (bn2): BatchNorm2d(1024, eps=1e-05, momentum=0.1, affine=True, track_running_stats=True)\n",
              "      (conv3): Conv2d(1024, 1024, kernel_size=(1, 1), stride=(1, 1), bias=False)\n",
              "      (bn3): BatchNorm2d(1024, eps=1e-05, momentum=0.1, affine=True, track_running_stats=True)\n",
              "      (relu): ReLU(inplace=True)\n",
              "    )\n",
              "    (17): Bottleneck(\n",
              "      (conv1): Conv2d(1024, 1024, kernel_size=(1, 1), stride=(1, 1), bias=False)\n",
              "      (bn1): BatchNorm2d(1024, eps=1e-05, momentum=0.1, affine=True, track_running_stats=True)\n",
              "      (conv2): Conv2d(1024, 1024, kernel_size=(3, 3), stride=(1, 1), padding=(1, 1), groups=32, bias=False)\n",
              "      (bn2): BatchNorm2d(1024, eps=1e-05, momentum=0.1, affine=True, track_running_stats=True)\n",
              "      (conv3): Conv2d(1024, 1024, kernel_size=(1, 1), stride=(1, 1), bias=False)\n",
              "      (bn3): BatchNorm2d(1024, eps=1e-05, momentum=0.1, affine=True, track_running_stats=True)\n",
              "      (relu): ReLU(inplace=True)\n",
              "    )\n",
              "    (18): Bottleneck(\n",
              "      (conv1): Conv2d(1024, 1024, kernel_size=(1, 1), stride=(1, 1), bias=False)\n",
              "      (bn1): BatchNorm2d(1024, eps=1e-05, momentum=0.1, affine=True, track_running_stats=True)\n",
              "      (conv2): Conv2d(1024, 1024, kernel_size=(3, 3), stride=(1, 1), padding=(1, 1), groups=32, bias=False)\n",
              "      (bn2): BatchNorm2d(1024, eps=1e-05, momentum=0.1, affine=True, track_running_stats=True)\n",
              "      (conv3): Conv2d(1024, 1024, kernel_size=(1, 1), stride=(1, 1), bias=False)\n",
              "      (bn3): BatchNorm2d(1024, eps=1e-05, momentum=0.1, affine=True, track_running_stats=True)\n",
              "      (relu): ReLU(inplace=True)\n",
              "    )\n",
              "    (19): Bottleneck(\n",
              "      (conv1): Conv2d(1024, 1024, kernel_size=(1, 1), stride=(1, 1), bias=False)\n",
              "      (bn1): BatchNorm2d(1024, eps=1e-05, momentum=0.1, affine=True, track_running_stats=True)\n",
              "      (conv2): Conv2d(1024, 1024, kernel_size=(3, 3), stride=(1, 1), padding=(1, 1), groups=32, bias=False)\n",
              "      (bn2): BatchNorm2d(1024, eps=1e-05, momentum=0.1, affine=True, track_running_stats=True)\n",
              "      (conv3): Conv2d(1024, 1024, kernel_size=(1, 1), stride=(1, 1), bias=False)\n",
              "      (bn3): BatchNorm2d(1024, eps=1e-05, momentum=0.1, affine=True, track_running_stats=True)\n",
              "      (relu): ReLU(inplace=True)\n",
              "    )\n",
              "    (20): Bottleneck(\n",
              "      (conv1): Conv2d(1024, 1024, kernel_size=(1, 1), stride=(1, 1), bias=False)\n",
              "      (bn1): BatchNorm2d(1024, eps=1e-05, momentum=0.1, affine=True, track_running_stats=True)\n",
              "      (conv2): Conv2d(1024, 1024, kernel_size=(3, 3), stride=(1, 1), padding=(1, 1), groups=32, bias=False)\n",
              "      (bn2): BatchNorm2d(1024, eps=1e-05, momentum=0.1, affine=True, track_running_stats=True)\n",
              "      (conv3): Conv2d(1024, 1024, kernel_size=(1, 1), stride=(1, 1), bias=False)\n",
              "      (bn3): BatchNorm2d(1024, eps=1e-05, momentum=0.1, affine=True, track_running_stats=True)\n",
              "      (relu): ReLU(inplace=True)\n",
              "    )\n",
              "    (21): Bottleneck(\n",
              "      (conv1): Conv2d(1024, 1024, kernel_size=(1, 1), stride=(1, 1), bias=False)\n",
              "      (bn1): BatchNorm2d(1024, eps=1e-05, momentum=0.1, affine=True, track_running_stats=True)\n",
              "      (conv2): Conv2d(1024, 1024, kernel_size=(3, 3), stride=(1, 1), padding=(1, 1), groups=32, bias=False)\n",
              "      (bn2): BatchNorm2d(1024, eps=1e-05, momentum=0.1, affine=True, track_running_stats=True)\n",
              "      (conv3): Conv2d(1024, 1024, kernel_size=(1, 1), stride=(1, 1), bias=False)\n",
              "      (bn3): BatchNorm2d(1024, eps=1e-05, momentum=0.1, affine=True, track_running_stats=True)\n",
              "      (relu): ReLU(inplace=True)\n",
              "    )\n",
              "    (22): Bottleneck(\n",
              "      (conv1): Conv2d(1024, 1024, kernel_size=(1, 1), stride=(1, 1), bias=False)\n",
              "      (bn1): BatchNorm2d(1024, eps=1e-05, momentum=0.1, affine=True, track_running_stats=True)\n",
              "      (conv2): Conv2d(1024, 1024, kernel_size=(3, 3), stride=(1, 1), padding=(1, 1), groups=32, bias=False)\n",
              "      (bn2): BatchNorm2d(1024, eps=1e-05, momentum=0.1, affine=True, track_running_stats=True)\n",
              "      (conv3): Conv2d(1024, 1024, kernel_size=(1, 1), stride=(1, 1), bias=False)\n",
              "      (bn3): BatchNorm2d(1024, eps=1e-05, momentum=0.1, affine=True, track_running_stats=True)\n",
              "      (relu): ReLU(inplace=True)\n",
              "    )\n",
              "  )\n",
              "  (layer4): Sequential(\n",
              "    (0): Bottleneck(\n",
              "      (conv1): Conv2d(1024, 2048, kernel_size=(1, 1), stride=(1, 1), bias=False)\n",
              "      (bn1): BatchNorm2d(2048, eps=1e-05, momentum=0.1, affine=True, track_running_stats=True)\n",
              "      (conv2): Conv2d(2048, 2048, kernel_size=(3, 3), stride=(2, 2), padding=(1, 1), groups=32, bias=False)\n",
              "      (bn2): BatchNorm2d(2048, eps=1e-05, momentum=0.1, affine=True, track_running_stats=True)\n",
              "      (conv3): Conv2d(2048, 2048, kernel_size=(1, 1), stride=(1, 1), bias=False)\n",
              "      (bn3): BatchNorm2d(2048, eps=1e-05, momentum=0.1, affine=True, track_running_stats=True)\n",
              "      (relu): ReLU(inplace=True)\n",
              "      (downsample): Sequential(\n",
              "        (0): Conv2d(1024, 2048, kernel_size=(1, 1), stride=(2, 2), bias=False)\n",
              "        (1): BatchNorm2d(2048, eps=1e-05, momentum=0.1, affine=True, track_running_stats=True)\n",
              "      )\n",
              "    )\n",
              "    (1): Bottleneck(\n",
              "      (conv1): Conv2d(2048, 2048, kernel_size=(1, 1), stride=(1, 1), bias=False)\n",
              "      (bn1): BatchNorm2d(2048, eps=1e-05, momentum=0.1, affine=True, track_running_stats=True)\n",
              "      (conv2): Conv2d(2048, 2048, kernel_size=(3, 3), stride=(1, 1), padding=(1, 1), groups=32, bias=False)\n",
              "      (bn2): BatchNorm2d(2048, eps=1e-05, momentum=0.1, affine=True, track_running_stats=True)\n",
              "      (conv3): Conv2d(2048, 2048, kernel_size=(1, 1), stride=(1, 1), bias=False)\n",
              "      (bn3): BatchNorm2d(2048, eps=1e-05, momentum=0.1, affine=True, track_running_stats=True)\n",
              "      (relu): ReLU(inplace=True)\n",
              "    )\n",
              "    (2): Bottleneck(\n",
              "      (conv1): Conv2d(2048, 2048, kernel_size=(1, 1), stride=(1, 1), bias=False)\n",
              "      (bn1): BatchNorm2d(2048, eps=1e-05, momentum=0.1, affine=True, track_running_stats=True)\n",
              "      (conv2): Conv2d(2048, 2048, kernel_size=(3, 3), stride=(1, 1), padding=(1, 1), groups=32, bias=False)\n",
              "      (bn2): BatchNorm2d(2048, eps=1e-05, momentum=0.1, affine=True, track_running_stats=True)\n",
              "      (conv3): Conv2d(2048, 2048, kernel_size=(1, 1), stride=(1, 1), bias=False)\n",
              "      (bn3): BatchNorm2d(2048, eps=1e-05, momentum=0.1, affine=True, track_running_stats=True)\n",
              "      (relu): ReLU(inplace=True)\n",
              "    )\n",
              "  )\n",
              "  (avgpool): AdaptiveAvgPool2d(output_size=(1, 1))\n",
              "  (fc): Sequential(\n",
              "    (0): My_Module(\n",
              "      (fc1): Linear(in_features=2048, out_features=1024, bias=True)\n",
              "      (fc2): Linear(in_features=1024, out_features=10, bias=True)\n",
              "    )\n",
              "  )\n",
              ")"
            ]
          },
          "metadata": {},
          "execution_count": 34
        }
      ]
    },
    {
      "cell_type": "code",
      "source": [
        "criterion= nn.CrossEntropyLoss()\n",
        "optimizer_ft= optim.SGD(model_ft.parameters(), lr= 0.00001, momentum= 0.9, nesterov=True)\n",
        "\n",
        "# decaying lr by a factor of 0.1 each 7 epochs\n",
        "exp_lr_scheduler= lr_scheduler.StepLR(optimizer_ft, step_size=3, gamma= 0.1)"
      ],
      "metadata": {
        "execution": {
          "iopub.status.busy": "2022-10-28T07:15:44.641003Z",
          "iopub.execute_input": "2022-10-28T07:15:44.641367Z",
          "iopub.status.idle": "2022-10-28T07:15:44.649771Z",
          "shell.execute_reply.started": "2022-10-28T07:15:44.641334Z",
          "shell.execute_reply": "2022-10-28T07:15:44.648755Z"
        },
        "trusted": true,
        "id": "4zuAUBsT1qKx"
      },
      "execution_count": 35,
      "outputs": []
    },
    {
      "cell_type": "code",
      "source": [
        "model_ft= model_ft.to(device)"
      ],
      "metadata": {
        "execution": {
          "iopub.status.busy": "2022-10-28T07:15:46.481287Z",
          "iopub.execute_input": "2022-10-28T07:15:46.482223Z",
          "iopub.status.idle": "2022-10-28T07:15:46.492209Z",
          "shell.execute_reply.started": "2022-10-28T07:15:46.482181Z",
          "shell.execute_reply": "2022-10-28T07:15:46.491076Z"
        },
        "trusted": true,
        "id": "gD4HnElW1qKx"
      },
      "execution_count": 36,
      "outputs": []
    },
    {
      "cell_type": "code",
      "source": [
        "!nvidia-smi"
      ],
      "metadata": {
        "execution": {
          "iopub.status.busy": "2022-10-28T06:03:34.459340Z",
          "iopub.execute_input": "2022-10-28T06:03:34.460187Z",
          "iopub.status.idle": "2022-10-28T06:03:34.467917Z",
          "shell.execute_reply.started": "2022-10-28T06:03:34.460158Z",
          "shell.execute_reply": "2022-10-28T06:03:34.466159Z"
        },
        "trusted": true,
        "colab": {
          "base_uri": "https://localhost:8080/"
        },
        "id": "n2UMP_341qKx",
        "outputId": "04e5488a-18ee-4c7b-9773-65afa4b455c1"
      },
      "execution_count": 25,
      "outputs": [
        {
          "output_type": "stream",
          "name": "stdout",
          "text": [
            "Sat Oct 29 08:48:26 2022       \n",
            "+-----------------------------------------------------------------------------+\n",
            "| NVIDIA-SMI 460.32.03    Driver Version: 460.32.03    CUDA Version: 11.2     |\n",
            "|-------------------------------+----------------------+----------------------+\n",
            "| GPU  Name        Persistence-M| Bus-Id        Disp.A | Volatile Uncorr. ECC |\n",
            "| Fan  Temp  Perf  Pwr:Usage/Cap|         Memory-Usage | GPU-Util  Compute M. |\n",
            "|                               |                      |               MIG M. |\n",
            "|===============================+======================+======================|\n",
            "|   0  Tesla T4            Off  | 00000000:00:04.0 Off |                    0 |\n",
            "| N/A   37C    P0    26W /  70W |    964MiB / 15109MiB |      0%      Default |\n",
            "|                               |                      |                  N/A |\n",
            "+-------------------------------+----------------------+----------------------+\n",
            "                                                                               \n",
            "+-----------------------------------------------------------------------------+\n",
            "| Processes:                                                                  |\n",
            "|  GPU   GI   CI        PID   Type   Process name                  GPU Memory |\n",
            "|        ID   ID                                                   Usage      |\n",
            "|=============================================================================|\n",
            "+-----------------------------------------------------------------------------+\n"
          ]
        }
      ]
    },
    {
      "cell_type": "markdown",
      "source": [
        "Compelete Training yet to be done (## Load the model for resuming training)"
      ],
      "metadata": {
        "id": "5XwJ3_jA1qKx"
      }
    },
    {
      "cell_type": "markdown",
      "source": [
        "Refer: https://medium.com/analytics-vidhya/saving-and-loading-your-model-to-resume-training-in-pytorch-cb687352fa61"
      ],
      "metadata": {
        "id": "eMVZopIA9-lP"
      }
    },
    {
      "cell_type": "code",
      "source": [
        "# Saving the model\n",
        "model_version= 'Ep9.7.pt'\n",
        "path= F'/content/drive/MyDrive/DataSets/{model_version}'\n",
        "torch.save(model_ft.state_dict(),path) \n",
        "# version 9.7 closed abruptly,,,lead to score loss :("
      ],
      "metadata": {
        "id": "zJ51dHG78rPa"
      },
      "execution_count": 23,
      "outputs": []
    },
    {
      "cell_type": "code",
      "source": [
        "model_ft = train_model(model_ft, criterion, optimizer_ft, exp_lr_scheduler,\n",
        "                       num_epochs=50)"
      ],
      "metadata": {
        "execution": {
          "iopub.status.busy": "2022-10-28T07:15:49.713811Z",
          "iopub.execute_input": "2022-10-28T07:15:49.714849Z",
          "iopub.status.idle": "2022-10-28T08:08:23.028956Z",
          "shell.execute_reply.started": "2022-10-28T07:15:49.714797Z",
          "shell.execute_reply": "2022-10-28T08:08:23.027689Z"
        },
        "trusted": true,
        "colab": {
          "base_uri": "https://localhost:8080/"
        },
        "id": "ge8iHt411qKz",
        "outputId": "b1f347b6-f091-469a-c752-290cc5152ba9"
      },
      "execution_count": null,
      "outputs": [
        {
          "output_type": "stream",
          "name": "stdout",
          "text": [
            "\n",
            "Epoch 1/50\n",
            "----------\n",
            "\t Batch= 194/1554===>Train Loss 1.7826 and Accuracy 0.6493 at 266.2s after start of epoch\n",
            "\t Batch= 388/1554===>Train Loss 1.7805 and Accuracy 0.6512 at 536.4s after start of epoch\n",
            "\t Batch= 582/1554===>Train Loss 1.7779 and Accuracy 0.6537 at 806.8s after start of epoch\n",
            "\t Batch= 776/1554===>Train Loss 1.7767 and Accuracy 0.6526 at 1077.1s after start of epoch\n",
            "\t Batch= 970/1554===>Train Loss 1.7766 and Accuracy 0.6525 at 1347.6s after start of epoch\n",
            "\t Batch= 1164/1554===>Train Loss 1.7770 and Accuracy 0.6521 at 1618.0s after start of epoch\n",
            "\t Batch= 1358/1554===>Train Loss 1.7760 and Accuracy 0.6527 at 1888.0s after start of epoch\n",
            "\t Batch= 1552/1554===>Train Loss 1.7761 and Accuracy 0.6529 at 2158.7s after start of epoch\n",
            "\n",
            "train Loss: 1.7760 Acc: 0.6530\n",
            "\n",
            "\n",
            "val Loss: 1.7821 Acc: 0.7280\n",
            "\n",
            "\n",
            "\n",
            "Epoch 2/50\n",
            "----------\n",
            "\t Batch= 194/1554===>Train Loss 1.7762 and Accuracy 0.6582 at 271.0s after start of epoch\n",
            "\t Batch= 388/1554===>Train Loss 1.7741 and Accuracy 0.6591 at 541.6s after start of epoch\n",
            "\t Batch= 582/1554===>Train Loss 1.7735 and Accuracy 0.6579 at 812.0s after start of epoch\n",
            "\t Batch= 776/1554===>Train Loss 1.7727 and Accuracy 0.6569 at 1082.4s after start of epoch\n",
            "\t Batch= 970/1554===>Train Loss 1.7728 and Accuracy 0.6550 at 1352.8s after start of epoch\n",
            "\t Batch= 1164/1554===>Train Loss 1.7737 and Accuracy 0.6541 at 1623.1s after start of epoch\n",
            "\t Batch= 1358/1554===>Train Loss 1.7729 and Accuracy 0.6548 at 1893.3s after start of epoch\n",
            "\t Batch= 1552/1554===>Train Loss 1.7733 and Accuracy 0.6543 at 2163.4s after start of epoch\n",
            "\n",
            "train Loss: 1.7733 Acc: 0.6543\n",
            "\n",
            "\n",
            "val Loss: 1.7990 Acc: 0.7040\n",
            "\n",
            "\n",
            "\n",
            "Epoch 3/50\n",
            "----------\n",
            "\t Batch= 194/1554===>Train Loss 1.7717 and Accuracy 0.6546 at 271.1s after start of epoch\n",
            "\t Batch= 388/1554===>Train Loss 1.7710 and Accuracy 0.6583 at 541.2s after start of epoch\n",
            "\t Batch= 582/1554===>Train Loss 1.7694 and Accuracy 0.6618 at 811.8s after start of epoch\n",
            "\t Batch= 776/1554===>Train Loss 1.7686 and Accuracy 0.6594 at 1082.5s after start of epoch\n",
            "\t Batch= 970/1554===>Train Loss 1.7685 and Accuracy 0.6595 at 1352.7s after start of epoch\n",
            "\t Batch= 1164/1554===>Train Loss 1.7693 and Accuracy 0.6587 at 1622.9s after start of epoch\n"
          ]
        }
      ]
    },
    {
      "cell_type": "code",
      "source": [
        "# Loading the model\n",
        "model_version= 'Ep7.pt'\n",
        "path= F'/content/drive/MyDrive/DataSets/{model_version}'\n",
        "model_ft.load_state_dict(torch.load(path,map_location=torch.device('cpu'))) "
      ],
      "metadata": {
        "execution": {
          "iopub.status.busy": "2022-10-28T08:10:20.277702Z",
          "iopub.execute_input": "2022-10-28T08:10:20.278057Z",
          "iopub.status.idle": "2022-10-28T08:10:21.535633Z",
          "shell.execute_reply.started": "2022-10-28T08:10:20.278027Z",
          "shell.execute_reply": "2022-10-28T08:10:21.534746Z"
        },
        "trusted": true,
        "colab": {
          "base_uri": "https://localhost:8080/"
        },
        "id": "jGYsERJZ1qKy",
        "outputId": "47f832eb-82e0-4b47-9bef-1e1b2a756a41"
      },
      "execution_count": 58,
      "outputs": [
        {
          "output_type": "execute_result",
          "data": {
            "text/plain": [
              "<All keys matched successfully>"
            ]
          },
          "metadata": {},
          "execution_count": 58
        }
      ]
    },
    {
      "cell_type": "code",
      "source": [
        "model_ft.eval()\n",
        "read_img = Image.open(f'/content/cifar10/cifar10/train/airplane/0002.png')\n",
        "with torch.no_grad():\n",
        "    read_img = read_img.resize((224,224))\n",
        "    img_tensor = transforms.ToTensor()(read_img)\n",
        "    img_tensor = transforms.Normalize([0.485, 0.456, 0.406], [0.229, 0.224, 0.225])(img_tensor)\n",
        "    img_tensor = img_tensor.unsqueeze_(0)\n",
        "    img_tensor = img_tensor.to(device)\n",
        "    outputs = model_ft(img_tensor)\n",
        "outputs"
      ],
      "metadata": {
        "trusted": true,
        "colab": {
          "base_uri": "https://localhost:8080/"
        },
        "id": "EN8Mwq8k1qKz",
        "outputId": "ab29b673-5a28-47ec-f89a-9c36a058490b"
      },
      "execution_count": 65,
      "outputs": [
        {
          "output_type": "execute_result",
          "data": {
            "text/plain": [
              "tensor([[ 0.3319, -0.3209,  0.0759,  0.1237, -0.3283,  0.0361, -0.0018, -0.3502,\n",
              "          0.3392, -0.0069]])"
            ]
          },
          "metadata": {},
          "execution_count": 65
        }
      ]
    },
    {
      "cell_type": "code",
      "source": [
        "MAX_PREDS = 5\n",
        "# Do not show labels with lower score than this:\n",
        "MIN_SCORE = 0.5 \n",
        "\n",
        "def show_preds(logits, image, correct_label=None, class_list=None):\n",
        "\n",
        "    if len(logits.shape) > 1:\n",
        "        logits = torch.reshape(logits, [-1])\n",
        "\n",
        "    fig, axes = plt.subplots(1, 2, figsize=(7, 4), squeeze=False)\n",
        "\n",
        "    ax1, ax2 = axes[0]\n",
        "    ax1.imshow(image)\n",
        "    if correct_label is not None:\n",
        "        ax1.set_title(class_names[correct_label])\n",
        "    classes = []\n",
        "    scores = []\n",
        "    logits_max = torch.max(logits)\n",
        "\n",
        "    logits_max, logits = np.array(logits_max.cpu()), np.array(logits.cpu())  \n",
        "    softmax_denominator = np.sum(np.exp(logits - logits_max))\n",
        "    for index, j in enumerate(np.argsort(logits)[-MAX_PREDS::][::-1]):\n",
        "        score = 1.0/(1.0 + np.exp(-logits[j]))\n",
        "        if score < MIN_SCORE: break\n",
        "        if class_list is not None:\n",
        "            classes.append(class_names[j])\n",
        "\n",
        "        scores.append(np.exp(logits[j] - logits_max)/softmax_denominator*100)\n",
        "\n",
        "    ax2.barh(np.arange(len(scores)) + 0.1, scores)\n",
        "    ax2.set_xlim(0, 100)\n",
        "    ax2.set_yticks(np.arange(len(scores)))\n",
        "    ax2.yaxis.set_ticks_position('right')\n",
        "    ax2.set_yticklabels(classes, rotation=0, fontsize=14)\n",
        "    ax2.invert_xaxis()\n",
        "    ax2.invert_yaxis()\n",
        "    ax2.set_xlabel('Prediction probabilities', fontsize=11)"
      ],
      "metadata": {
        "trusted": true,
        "id": "AfBL65sV1qKz"
      },
      "execution_count": 67,
      "outputs": []
    },
    {
      "cell_type": "code",
      "source": [
        "show_preds(outputs, read_img, class_list=class_names)"
      ],
      "metadata": {
        "trusted": true,
        "colab": {
          "base_uri": "https://localhost:8080/",
          "height": 279
        },
        "id": "gQo2oxWs1qKz",
        "outputId": "5164e77e-b55c-4842-ba17-45642810b7a3"
      },
      "execution_count": 68,
      "outputs": [
        {
          "output_type": "display_data",
          "data": {
            "text/plain": [
              "<Figure size 504x288 with 2 Axes>"
            ],
            "image/png": "[encoded data removed]"
          },
          "metadata": {
            "needs_background": "light"
          }
        }
      ]
    },
    {
      "cell_type": "code",
      "source": [
        "old1 = np.load('fin_9830.npy')"
      ],
      "metadata": {
        "trusted": true,
        "id": "y-QUxtPO1qK0"
      },
      "execution_count": null,
      "outputs": []
    },
    {
      "cell_type": "code",
      "source": [
        "# to make predictions, I used Test time augmentations.\n",
        "# i used flip, rotate, left 75% crop and right 75% crop.\n",
        "# THESE ARE THE TEST TIME AUGMENTATIONS I USED.\n",
        "# THEY ARE COMMENTED OUT BECAUSE OF MY VARIOUS EXPERIMENTS OF WHAT WORKS AND WHAT DOES NOT.\n",
        "\n",
        "import pandas as pd\n",
        "import PIL\n",
        "from tqdm.notebook import tqdm\n",
        "# helper for images\n",
        "def preprocess_image(image):\n",
        "\n",
        "    with torch.no_grad():\n",
        "        image = image.resize((224,224), resample=PIL.Image.LANCZOS)\n",
        "        img_tensor = transforms.ToTensor()(image)\n",
        "        img_tensor = transforms.Normalize([0.485, 0.456, 0.406], [0.229, 0.224, 0.225])(img_tensor)\n",
        "        img_tensor = img_tensor.unsqueeze_(0)\n",
        "        img_tensor = img_tensor.to(device)\n",
        "    return img_tensor\n",
        "\n",
        "output = pd.DataFrame(columns=['filename', 'label'])\n",
        "images_list = sorted(os.listdir('../input/cifar10-pngs-in-folders/cifar10/test'))\n",
        "old_preds_tense1 = torch.Tensor(old1).to(device)\n",
        "\n",
        "output_ar = np.zeros((10000, 10))\n",
        "\n",
        "model_ft.eval()\n",
        "\n",
        "i = 0\n",
        "for image in tqdm(images_list):\n",
        "    image = images_list[i]\n",
        "    output.loc[i,'filename'] = image\n",
        "\n",
        "    read_img = Image.open(f'cifar10/test/{image}')\n",
        "    #read_img_flipped = read_img.transpose(Image.FLIP_LEFT_RIGHT)\n",
        "\n",
        "    #left_crop = read_img.crop((0, 0, 168, 224))\n",
        "    #right_crop = read_img.crop((56, 0, 224, 224))\n",
        "\n",
        "    #read_img_lcrop = left_crop.resize((224,224), resample=PIL.Image.LANCZOS)\n",
        "    #read_img_rcrop = right_crop.resize((224,224), resample=PIL.Image.LANCZOS)\n",
        "\n",
        "    with torch.no_grad():\n",
        "        image1 = preprocess_image(read_img)\n",
        "        #image2 = preprocess_image(read_img_flipped)\n",
        "        #image3 = preprocess_image(read_img_lcrop)\n",
        "        #image4 = preprocess_image(read_img_rcrop)\n",
        "\n",
        "        image1 = image1.to(device)\n",
        "        #image2 = image2.to(device)\n",
        "        #image3 = image3.to(device)\n",
        "        #image4 = image4.to(device)\n",
        " \n",
        "\n",
        "        outputs1 = model_ft(image1)\n",
        "        #outputs2 = model_ft(image2)\n",
        "        #outputs3 = model_ft(image3)\n",
        "        #outputs4 = model_ft(image4)\n",
        "\n",
        "\n",
        "        #outputs = (outputs1 + outputs2 + outputs3 + outputs4)/4 \n",
        "\n",
        "    outputs = (0.8)*old_preds_tense1[i, :] + (0.2)*outputs1\n",
        "    output_ar[i, :] = outputs.cpu()\n",
        "    class_ = class_names[int(torch.argmax(outputs))]\n",
        "\n",
        "    output.loc[i,'label'] = class_\n",
        "\n",
        "    i += 1"
      ],
      "metadata": {
        "trusted": true,
        "id": "ZaUPM3--1qK0"
      },
      "execution_count": null,
      "outputs": []
    },
    {
      "cell_type": "code",
      "source": [
        "output['label'].value_counts() # value counts of highest predictions for not repeating the submission again"
      ],
      "metadata": {
        "trusted": true,
        "id": "b2k_QuKM1qK0"
      },
      "execution_count": null,
      "outputs": []
    },
    {
      "cell_type": "code",
      "source": [
        "output.to_csv('pred.csv', index=False)"
      ],
      "metadata": {
        "trusted": true,
        "id": "cFlLG80J1qK0"
      },
      "execution_count": null,
      "outputs": []
    },
    {
      "cell_type": "code",
      "source": [
        "np.save('fin_9833.npy', output_ar)"
      ],
      "metadata": {
        "trusted": true,
        "id": "ygr4SsYr1qK0"
      },
      "execution_count": null,
      "outputs": []
    }
  ]
}